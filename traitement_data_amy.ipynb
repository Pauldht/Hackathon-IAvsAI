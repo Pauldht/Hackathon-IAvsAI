{
 "cells": [
  {
   "cell_type": "code",
   "execution_count": 1,
   "metadata": {},
   "outputs": [],
   "source": [
    "import pandas as pd\n",
    "import json\n",
    "from glob import glob\n",
    "from sklearn.model_selection import train_test_split"
   ]
  },
  {
   "cell_type": "code",
   "execution_count": 2,
   "metadata": {},
   "outputs": [
    {
     "data": {
      "text/plain": [
       "48644"
      ]
     },
     "execution_count": 2,
     "metadata": {},
     "output_type": "execute_result"
    }
   ],
   "source": [
    "def jsonl_to_dataframe(file_path):\n",
    "    \"\"\"Fonction pour lire un fichier JSONL et retourner un DataFrame pandas\"\"\"\n",
    "    data = []\n",
    "    with open(file_path, 'r', encoding='utf-8') as file:\n",
    "        for line in file:\n",
    "            data.append(json.loads(line))\n",
    "    return pd.DataFrame(data)\n",
    "\n",
    "def merge_jsonl_to_dataframe(file_pattern):\n",
    "    \"\"\"Fonction pour fusionner plusieurs fichiers JSONL en un seul DataFrame pandas\"\"\"\n",
    "    # Récupérer la liste des fichiers correspondant au modèle fourni\n",
    "    files = glob(file_pattern)\n",
    "    \n",
    "    \n",
    "    # Lire chaque fichier JSONL et stocker les DataFrames individuels dans une liste\n",
    "    dfs = [jsonl_to_dataframe(file) for file in files]\n",
    "    # Concaténer les DataFrames\n",
    "    merged_df = pd.concat(dfs, ignore_index=True)\n",
    "    \n",
    "    return merged_df\n",
    "\n",
    "# Modèle de chemin vers les fichiers JSONL à fusionner\n",
    "file_pattern = \"data/*.jsonl\"\n",
    "\n",
    "# Appel de la fonction pour fusionner les fichiers JSONL en un DataFrame\n",
    "df = merge_jsonl_to_dataframe(file_pattern)\n",
    "\n",
    "# Afficher le DataFrame fusionné\n",
    "len(df)"
   ]
  },
  {
   "cell_type": "code",
   "execution_count": 3,
   "metadata": {},
   "outputs": [
    {
     "data": {
      "text/html": [
       "<div>\n",
       "<style scoped>\n",
       "    .dataframe tbody tr th:only-of-type {\n",
       "        vertical-align: middle;\n",
       "    }\n",
       "\n",
       "    .dataframe tbody tr th {\n",
       "        vertical-align: top;\n",
       "    }\n",
       "\n",
       "    .dataframe thead th {\n",
       "        text-align: right;\n",
       "    }\n",
       "</style>\n",
       "<table border=\"1\" class=\"dataframe\">\n",
       "  <thead>\n",
       "    <tr style=\"text-align: right;\">\n",
       "      <th></th>\n",
       "      <th>answers</th>\n",
       "      <th>is_human</th>\n",
       "    </tr>\n",
       "  </thead>\n",
       "  <tbody>\n",
       "    <tr>\n",
       "      <th>0</th>\n",
       "      <td>[Basically there are many categories of \" Best...</td>\n",
       "      <td>1</td>\n",
       "    </tr>\n",
       "    <tr>\n",
       "      <th>1</th>\n",
       "      <td>[salt is good for not dying in car crashes and...</td>\n",
       "      <td>1</td>\n",
       "    </tr>\n",
       "    <tr>\n",
       "      <th>2</th>\n",
       "      <td>[The way it works is that old TV stations got ...</td>\n",
       "      <td>1</td>\n",
       "    </tr>\n",
       "    <tr>\n",
       "      <th>3</th>\n",
       "      <td>[You ca n't just go around assassinating the l...</td>\n",
       "      <td>1</td>\n",
       "    </tr>\n",
       "    <tr>\n",
       "      <th>4</th>\n",
       "      <td>[Wanting to kill the shit out of Germans drive...</td>\n",
       "      <td>1</td>\n",
       "    </tr>\n",
       "    <tr>\n",
       "      <th>...</th>\n",
       "      <td>...</td>\n",
       "      <td>...</td>\n",
       "    </tr>\n",
       "    <tr>\n",
       "      <th>97283</th>\n",
       "      <td>[If you have challenged a credit card charge t...</td>\n",
       "      <td>0</td>\n",
       "    </tr>\n",
       "    <tr>\n",
       "      <th>97284</th>\n",
       "      <td>[It is generally a good idea for stay-at-home ...</td>\n",
       "      <td>0</td>\n",
       "    </tr>\n",
       "    <tr>\n",
       "      <th>97285</th>\n",
       "      <td>[A SEP (Simplified Employee Pension) is a type...</td>\n",
       "      <td>0</td>\n",
       "    </tr>\n",
       "    <tr>\n",
       "      <th>97286</th>\n",
       "      <td>[When you make a purchase with a credit card, ...</td>\n",
       "      <td>0</td>\n",
       "    </tr>\n",
       "    <tr>\n",
       "      <th>97287</th>\n",
       "      <td>[If you're interested in beginning your invest...</td>\n",
       "      <td>0</td>\n",
       "    </tr>\n",
       "  </tbody>\n",
       "</table>\n",
       "<p>97288 rows × 2 columns</p>\n",
       "</div>"
      ],
      "text/plain": [
       "                                                 answers  is_human\n",
       "0      [Basically there are many categories of \" Best...         1\n",
       "1      [salt is good for not dying in car crashes and...         1\n",
       "2      [The way it works is that old TV stations got ...         1\n",
       "3      [You ca n't just go around assassinating the l...         1\n",
       "4      [Wanting to kill the shit out of Germans drive...         1\n",
       "...                                                  ...       ...\n",
       "97283  [If you have challenged a credit card charge t...         0\n",
       "97284  [It is generally a good idea for stay-at-home ...         0\n",
       "97285  [A SEP (Simplified Employee Pension) is a type...         0\n",
       "97286  [When you make a purchase with a credit card, ...         0\n",
       "97287  [If you're interested in beginning your invest...         0\n",
       "\n",
       "[97288 rows x 2 columns]"
      ]
     },
     "execution_count": 3,
     "metadata": {},
     "output_type": "execute_result"
    }
   ],
   "source": [
    "# Creating the answers_df\n",
    "human_df = pd.DataFrame({'answers': df['human_answers'], 'is_human': 1})\n",
    "gpt_df = pd.DataFrame({'answers': df['chatgpt_answers'], 'is_human': 0})\n",
    "answers_df = pd.concat([human_df, gpt_df], axis=0, ignore_index=True)\n",
    "\n",
    "answers_df"
   ]
  }
 ],
 "metadata": {
  "kernelspec": {
   "display_name": "base",
   "language": "python",
   "name": "python3"
  },
  "language_info": {
   "codemirror_mode": {
    "name": "ipython",
    "version": 3
   },
   "file_extension": ".py",
   "mimetype": "text/x-python",
   "name": "python",
   "nbconvert_exporter": "python",
   "pygments_lexer": "ipython3",
   "version": "3.11.6"
  }
 },
 "nbformat": 4,
 "nbformat_minor": 2
}
