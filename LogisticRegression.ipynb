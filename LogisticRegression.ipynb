{
 "cells": [
  {
   "cell_type": "code",
   "execution_count": 10,
   "metadata": {},
   "outputs": [],
   "source": [
    "import pandas as pd\n",
    "import json\n",
    "import numpy as np\n",
    "import matplotlib.pyplot as plt\n",
    "\n",
    "from glob import glob\n",
    "from sklearn.model_selection import train_test_split\n",
    "from colorama import init, Fore, Style\n",
    "from sklearn.metrics import ConfusionMatrixDisplay, confusion_matrix"
   ]
  },
  {
   "cell_type": "code",
   "execution_count": 2,
   "metadata": {},
   "outputs": [],
   "source": [
    "def jsonl_to_dataframe(file_path):\n",
    "    return pd.read_json(file_path, lines=True)\n",
    "\n",
    "def merge_jsonl_to_dataframe(file_pattern):\n",
    "    \"\"\"Fonction pour fusionner plusieurs fichiers JSONL en un seul DataFrame pandas\"\"\"\n",
    "    # Récupérer la liste des fichiers correspondant au modèle fourni\n",
    "    files = glob(file_pattern)\n",
    "    \n",
    "    \n",
    "    # Lire chaque fichier JSONL et stocker les DataFrames individuels dans une liste\n",
    "    dfs = [jsonl_to_dataframe(file) for file in files]\n",
    "    # Concaténer les DataFrames\n",
    "    merged_df = pd.concat(dfs, ignore_index=True)\n",
    "    \n",
    "    return merged_df\n",
    "\n",
    "# Modèle de chemin vers les fichiers JSONL à fusionner\n",
    "file_pattern = \"data/*.jsonl\"\n",
    "\n",
    "# Appel de la fonction pour fusionner les fichiers JSONL en un DataFrame\n",
    "df = merge_jsonl_to_dataframe(file_pattern)\n",
    "\n",
    "# Afficher le DataFrame fusionné\n"
   ]
  },
  {
   "cell_type": "markdown",
   "metadata": {},
   "source": [
    "#  Setup the dataFrame for the predictive models"
   ]
  },
  {
   "cell_type": "code",
   "execution_count": 3,
   "metadata": {},
   "outputs": [
    {
     "data": {
      "text/html": [
       "<div>\n",
       "<style scoped>\n",
       "    .dataframe tbody tr th:only-of-type {\n",
       "        vertical-align: middle;\n",
       "    }\n",
       "\n",
       "    .dataframe tbody tr th {\n",
       "        vertical-align: top;\n",
       "    }\n",
       "\n",
       "    .dataframe thead th {\n",
       "        text-align: right;\n",
       "    }\n",
       "</style>\n",
       "<table border=\"1\" class=\"dataframe\">\n",
       "  <thead>\n",
       "    <tr style=\"text-align: right;\">\n",
       "      <th></th>\n",
       "      <th>questions</th>\n",
       "      <th>answers</th>\n",
       "      <th>is_human</th>\n",
       "    </tr>\n",
       "  </thead>\n",
       "  <tbody>\n",
       "    <tr>\n",
       "      <th>0</th>\n",
       "      <td>Does Primolut N taken during pregnancy affect ...</td>\n",
       "      <td>Hi,     Thanks for the query. I understand you...</td>\n",
       "      <td>1</td>\n",
       "    </tr>\n",
       "    <tr>\n",
       "      <th>1</th>\n",
       "      <td>Bloating and pain on right lower abdomen. Shou...</td>\n",
       "      <td>Hello,Thanks for the query to H.C.M. Forum.Pai...</td>\n",
       "      <td>1</td>\n",
       "    </tr>\n",
       "    <tr>\n",
       "      <th>2</th>\n",
       "      <td>Is chest pain related to intake of clindamycin...</td>\n",
       "      <td>Hello, The use of Clindamycin can cause stomac...</td>\n",
       "      <td>1</td>\n",
       "    </tr>\n",
       "    <tr>\n",
       "      <th>3</th>\n",
       "      <td>Q. Noticed a yellowish sag in the gums of my 1...</td>\n",
       "      <td>Hello. Revert back with the photos to a dentis...</td>\n",
       "      <td>1</td>\n",
       "    </tr>\n",
       "    <tr>\n",
       "      <th>4</th>\n",
       "      <td>Suggest remedy for low grade fever, hot and co...</td>\n",
       "      <td>Hi Dear,Welcome to Healthcaremagic Team.Unders...</td>\n",
       "      <td>1</td>\n",
       "    </tr>\n",
       "    <tr>\n",
       "      <th>...</th>\n",
       "      <td>...</td>\n",
       "      <td>...</td>\n",
       "      <td>...</td>\n",
       "    </tr>\n",
       "    <tr>\n",
       "      <th>170893</th>\n",
       "      <td>what are layers of the ionosphere</td>\n",
       "      <td>The ionosphere is a layer of the Earth's upper...</td>\n",
       "      <td>0</td>\n",
       "    </tr>\n",
       "    <tr>\n",
       "      <th>170894</th>\n",
       "      <td>what are layers of the ionosphere</td>\n",
       "      <td>The ionosphere is a layer of Earth's atmospher...</td>\n",
       "      <td>0</td>\n",
       "    </tr>\n",
       "    <tr>\n",
       "      <th>170895</th>\n",
       "      <td>what state is new orleans in</td>\n",
       "      <td>New Orleans is a city located in the state of ...</td>\n",
       "      <td>0</td>\n",
       "    </tr>\n",
       "    <tr>\n",
       "      <th>170896</th>\n",
       "      <td>what state is new orleans in</td>\n",
       "      <td>New Orleans is a city located in the state of ...</td>\n",
       "      <td>0</td>\n",
       "    </tr>\n",
       "    <tr>\n",
       "      <th>170897</th>\n",
       "      <td>what state is new orleans in</td>\n",
       "      <td>New Orleans is a city located in the state of ...</td>\n",
       "      <td>0</td>\n",
       "    </tr>\n",
       "  </tbody>\n",
       "</table>\n",
       "<p>170898 rows × 3 columns</p>\n",
       "</div>"
      ],
      "text/plain": [
       "                                                questions  \\\n",
       "0       Does Primolut N taken during pregnancy affect ...   \n",
       "1       Bloating and pain on right lower abdomen. Shou...   \n",
       "2       Is chest pain related to intake of clindamycin...   \n",
       "3       Q. Noticed a yellowish sag in the gums of my 1...   \n",
       "4       Suggest remedy for low grade fever, hot and co...   \n",
       "...                                                   ...   \n",
       "170893                  what are layers of the ionosphere   \n",
       "170894                  what are layers of the ionosphere   \n",
       "170895                       what state is new orleans in   \n",
       "170896                       what state is new orleans in   \n",
       "170897                       what state is new orleans in   \n",
       "\n",
       "                                                  answers  is_human  \n",
       "0       Hi,     Thanks for the query. I understand you...         1  \n",
       "1       Hello,Thanks for the query to H.C.M. Forum.Pai...         1  \n",
       "2       Hello, The use of Clindamycin can cause stomac...         1  \n",
       "3       Hello. Revert back with the photos to a dentis...         1  \n",
       "4       Hi Dear,Welcome to Healthcaremagic Team.Unders...         1  \n",
       "...                                                   ...       ...  \n",
       "170893  The ionosphere is a layer of the Earth's upper...         0  \n",
       "170894  The ionosphere is a layer of Earth's atmospher...         0  \n",
       "170895  New Orleans is a city located in the state of ...         0  \n",
       "170896  New Orleans is a city located in the state of ...         0  \n",
       "170897  New Orleans is a city located in the state of ...         0  \n",
       "\n",
       "[170898 rows x 3 columns]"
      ]
     },
     "execution_count": 3,
     "metadata": {},
     "output_type": "execute_result"
    }
   ],
   "source": [
    "# Creating the answers_df\n",
    "human_df = pd.DataFrame({'questions': df['question'], 'answers': df['human_answers'], 'is_human': 1 })\n",
    "gpt_df = pd.DataFrame({'questions': df['question'], 'answers': df['chatgpt_answers'], 'is_human': 0})\n",
    "answers_df = pd.concat([human_df, gpt_df], axis=0, ignore_index=True)\n",
    "\n",
    "# Checking the len\n",
    "answers_df = answers_df.explode('answers', ignore_index=True)\n",
    "answers_df = answers_df.dropna(subset=['answers'], ignore_index=True)\n",
    "\n",
    "answers_df"
   ]
  },
  {
   "cell_type": "code",
   "execution_count": 45,
   "metadata": {},
   "outputs": [],
   "source": [
    "X = answers_df['answers']\n",
    "y = answers_df['is_human']\n",
    "\n",
    "X_train, X_test, y_train, y_test = train_test_split(X, y, test_size=0.2, random_state=42) "
   ]
  },
  {
   "cell_type": "code",
   "execution_count": 48,
   "metadata": {},
   "outputs": [],
   "source": [
    "a = TfidfVectorizer()\n",
    "\n",
    "Vec = a.fit(X)"
   ]
  },
  {
   "cell_type": "markdown",
   "metadata": {},
   "source": [
    "# Logistic Regression"
   ]
  },
  {
   "cell_type": "code",
   "execution_count": 19,
   "metadata": {},
   "outputs": [],
   "source": [
    "from sklearn.pipeline import make_pipeline\n",
    "from sklearn.feature_extraction.text import TfidfVectorizer\n",
    "from sklearn.metrics import ConfusionMatrixDisplay, confusion_matrix, accuracy_score\n",
    "import matplotlib.pyplot as plt\n",
    "\n",
    "from gensim.models import KeyedVectors\n",
    "from sklearn.linear_model import LogisticRegression\n",
    "import gensim.downloader\n",
    "from nltk.tokenize import word_tokenize, sent_tokenize\n",
    "\n",
    "\n",
    "def evaluate_model(model, X_test, y_test):\n",
    "    y_pred = model.predict(X_test)\n",
    "    print(\"Accuracy: \", accuracy_score(y_test, y_pred))\n",
    "    cm = confusion_matrix(y_test, y_pred, labels=model.classes_)\n",
    "    disp = ConfusionMatrixDisplay(confusion_matrix=cm, display_labels=model.classes_)\n",
    "    disp.plot()\n",
    "    plt.show()"
   ]
  },
  {
   "cell_type": "markdown",
   "metadata": {},
   "source": [
    "### Logistic Regression With TdIf"
   ]
  },
  {
   "cell_type": "code",
   "execution_count": 66,
   "metadata": {},
   "outputs": [
    {
     "name": "stdout",
     "output_type": "stream",
     "text": [
      "Accuracy:  0.9881217086015214\n"
     ]
    },
    {
     "data": {
      "image/png": "[encoded data removed]",
      "text/plain": [
       "<Figure size 640x480 with 2 Axes>"
      ]
     },
     "metadata": {},
     "output_type": "display_data"
    }
   ],
   "source": [
    "\n",
    "model = make_pipeline(TfidfVectorizer(max_features=10000,ngram_range=(1,2)), LogisticRegression(C=10, random_state=42, class_weight='balanced', penalty='l2', max_iter=100))\n",
    "model.fit(X_train, y_train)\n",
    "\n",
    "evaluate_model(model, X_test, y_test)"
   ]
  },
  {
   "cell_type": "markdown",
   "metadata": {},
   "source": [
    "### Logistic Regression with Cross Validation"
   ]
  },
  {
   "cell_type": "code",
   "execution_count": 52,
   "metadata": {},
   "outputs": [
    {
     "name": "stdout",
     "output_type": "stream",
     "text": [
      "Accuracy:  0.9657109420713867\n"
     ]
    },
    {
     "data": {
      "image/png": "[encoded data removed]",
      "text/plain": [
       "<Figure size 640x480 with 2 Axes>"
      ]
     },
     "metadata": {},
     "output_type": "display_data"
    }
   ],
   "source": [
    "evaluate_model(model, X_test, y_test)"
   ]
  },
  {
   "cell_type": "code",
   "execution_count": 63,
   "metadata": {},
   "outputs": [
    {
     "name": "stderr",
     "output_type": "stream",
     "text": [
      "/opt/mamba/lib/python3.11/site-packages/sklearn/model_selection/_validation.py:547: FitFailedWarning: \n",
      "270 fits failed out of a total of 540.\n",
      "The score on these train-test partitions for these parameters will be set to nan.\n",
      "If these failures are not expected, you can try to debug them by setting error_score='raise'.\n",
      "\n",
      "Below are more details about the failures:\n",
      "--------------------------------------------------------------------------------\n",
      "270 fits failed with the following error:\n",
      "Traceback (most recent call last):\n",
      "  File \"/opt/mamba/lib/python3.11/site-packages/sklearn/model_selection/_validation.py\", line 895, in _fit_and_score\n",
      "    estimator.fit(X_train, y_train, **fit_params)\n",
      "  File \"/opt/mamba/lib/python3.11/site-packages/sklearn/base.py\", line 1474, in wrapper\n",
      "    return fit_method(estimator, *args, **kwargs)\n",
      "           ^^^^^^^^^^^^^^^^^^^^^^^^^^^^^^^^^^^^^^\n",
      "  File \"/opt/mamba/lib/python3.11/site-packages/sklearn/pipeline.py\", line 475, in fit\n",
      "    self._final_estimator.fit(Xt, y, **last_step_params[\"fit\"])\n",
      "  File \"/opt/mamba/lib/python3.11/site-packages/sklearn/base.py\", line 1474, in wrapper\n",
      "    return fit_method(estimator, *args, **kwargs)\n",
      "           ^^^^^^^^^^^^^^^^^^^^^^^^^^^^^^^^^^^^^^\n",
      "  File \"/opt/mamba/lib/python3.11/site-packages/sklearn/linear_model/_logistic.py\", line 1172, in fit\n",
      "    solver = _check_solver(self.solver, self.penalty, self.dual)\n",
      "             ^^^^^^^^^^^^^^^^^^^^^^^^^^^^^^^^^^^^^^^^^^^^^^^^^^^\n",
      "  File \"/opt/mamba/lib/python3.11/site-packages/sklearn/linear_model/_logistic.py\", line 67, in _check_solver\n",
      "    raise ValueError(\n",
      "ValueError: Solver lbfgs supports only 'l2' or None penalties, got l1 penalty.\n",
      "\n",
      "  warnings.warn(some_fits_failed_message, FitFailedWarning)\n",
      "/opt/mamba/lib/python3.11/site-packages/sklearn/model_selection/_search.py:1051: UserWarning: One or more of the test scores are non-finite: [       nan        nan        nan        nan        nan        nan\n",
      " 0.93260581 0.94309455 0.93777704 0.95342239 0.93665063 0.95337118\n",
      "        nan        nan        nan        nan        nan        nan\n",
      " 0.93260581 0.94309455 0.93777704 0.95342239 0.93665063 0.95337118\n",
      "        nan        nan        nan        nan        nan        nan\n",
      " 0.93260581 0.94309455 0.93777704 0.95342239 0.93665063 0.95337118\n",
      "        nan        nan        nan        nan        nan        nan\n",
      " 0.94599835 0.95656022 0.96216299 0.97563598 0.96459866 0.97813748\n",
      "        nan        nan        nan        nan        nan        nan\n",
      " 0.94599835 0.95656022 0.96216299 0.97563598 0.96459866 0.97813748\n",
      "        nan        nan        nan        nan        nan        nan\n",
      " 0.94599835 0.95656022 0.96216299 0.97563598 0.96459866 0.97813748\n",
      "        nan        nan        nan        nan        nan        nan\n",
      " 0.94816338 0.95846194 0.96852644 0.98223351 0.97339782 0.98642462\n",
      "        nan        nan        nan        nan        nan        nan\n",
      " 0.94816338 0.95846194 0.96852644 0.98223351 0.97339782 0.98642462\n",
      "        nan        nan        nan        nan        nan        nan\n",
      " 0.94816338 0.95846194 0.96852644 0.98223351 0.97339782 0.98642462]\n",
      "  warnings.warn(\n"
     ]
    },
    {
     "name": "stdout",
     "output_type": "stream",
     "text": [
      "Meilleurs paramètres: {'logisticregression__C': 10.0, 'logisticregression__max_iter': 100, 'logisticregression__penalty': 'l2', 'tfidfvectorizer__max_features': 10000, 'tfidfvectorizer__ngram_range': (1, 2)}\n",
      "Meilleur score: 0.9864246156262038\n",
      "Accuracy:  0.9877413692217671\n"
     ]
    },
    {
     "data": {
      "image/png": "[encoded data removed]",
      "text/plain": [
       "<Figure size 640x480 with 2 Axes>"
      ]
     },
     "metadata": {},
     "output_type": "display_data"
    }
   ],
   "source": [
    "from sklearn.pipeline import Pipeline\n",
    "from sklearn.feature_extraction.text import TfidfVectorizer\n",
    "from sklearn.linear_model import LogisticRegression\n",
    "from sklearn.model_selection import GridSearchCV\n",
    "\n",
    "# Définir les paramètres pour TfidfVectorizer\n",
    "tfidf_params = {\n",
    "    'tfidfvectorizer__max_features': [1000, 5000, 10000],\n",
    "    'tfidfvectorizer__ngram_range': [(1, 1), (1, 2)],\n",
    "}\n",
    "\n",
    "# Définir les paramètres pour LogisticRegression\n",
    "logreg_params = {\n",
    "    'logisticregression__C': [0.1, 1.0, 10.0],\n",
    "    'logisticregression__penalty': ['l1', 'l2'],\n",
    "    'logisticregression__max_iter': [100, 500, 1000],\n",
    "}\n",
    "\n",
    "# Créer la grille de paramètres\n",
    "param_grid = {\n",
    "    **tfidf_params,\n",
    "    **logreg_params,\n",
    "}\n",
    "\n",
    "# Créer le pipeline\n",
    "pipeline = Pipeline([\n",
    "    ('tfidfvectorizer', TfidfVectorizer()),\n",
    "    ('logisticregression', LogisticRegression(random_state=42)),\n",
    "])\n",
    "\n",
    "# Effectuer la recherche sur grille exhaustive\n",
    "grid_search = GridSearchCV(pipeline, param_grid, cv=5, scoring='accuracy', n_jobs=-1)\n",
    "grid_search.fit(X_train, y_train)\n",
    "\n",
    "# Afficher les meilleurs paramètres et le score\n",
    "print(\"Meilleurs paramètres:\", grid_search.best_params_)\n",
    "print(\"Meilleur score:\", grid_search.best_score_)\n",
    "\n",
    "\n",
    "# Get the best model from grid search\n",
    "best_model = grid_search.best_estimator_\n",
    "\n",
    "# Evaluate the best model on the test set\n",
    "evaluate_model(best_model, X_test, y_test)\n"
   ]
  },
  {
   "cell_type": "code",
   "execution_count": null,
   "metadata": {},
   "outputs": [],
   "source": [
    "# Ajouter d autre parametres a l IA (genre compter le nombre d orhtoraphae)\n",
    "\n",
    "# Generer des donnes\n",
    "\n",
    "# Analyse statisqieu\n",
    "\n",
    "# BenchMark\n",
    "\n",
    "# PRoposer une solution finale - cher possible + effica computation\n",
    "\n",
    "# Etat d'ArithmeticError\n",
    "\n",
    "\n",
    "\n",
    "# Calculer la puissance !!\n",
    "\n",
    "# Slides utilsie une appli \n",
    "\n",
    "\n",
    "# Utiliser des GPU et voir pk \n",
    "\n",
    "# Si marchine learning meilleur alors prendre  Deep Learning\n",
    "\n",
    "# Interpret fiction \n",
    "\n",
    "# Front + Back\n",
    "\n",
    "\n",
    "# Faire un ptn de QR CODE ou les mec peuvent ecrire le test"
   ]
  }
 ],
 "metadata": {
  "kernelspec": {
   "display_name": "base",
   "language": "python",
   "name": "python3"
  },
  "language_info": {
   "codemirror_mode": {
    "name": "ipython",
    "version": 3
   },
   "file_extension": ".py",
   "mimetype": "text/x-python",
   "name": "python",
   "nbconvert_exporter": "python",
   "pygments_lexer": "ipython3",
   "version": "3.11.6"
  }
 },
 "nbformat": 4,
 "nbformat_minor": 2
}
