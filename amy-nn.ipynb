{
 "cells": [
  {
   "cell_type": "markdown",
   "metadata": {},
   "source": [
    "# 1- Data Acquisition\n",
    "\n",
    "We are going to use a dataset that is already collected."
   ]
  },
  {
   "cell_type": "code",
   "execution_count": 2,
   "metadata": {},
   "outputs": [],
   "source": [
    "import pandas as pd\n",
    "import json\n",
    "from glob import glob\n",
    "from sklearn.model_selection import train_test_split"
   ]
  },
  {
   "cell_type": "code",
   "execution_count": 3,
   "metadata": {},
   "outputs": [
    {
     "data": {
      "text/plain": [
       "48644"
      ]
     },
     "execution_count": 3,
     "metadata": {},
     "output_type": "execute_result"
    }
   ],
   "source": [
    "def jsonl_to_dataframe(file_path):\n",
    "    \"\"\"Fonction pour lire un fichier JSONL et retourner un DataFrame pandas\"\"\"\n",
    "    data = []\n",
    "    with open(file_path, 'r', encoding='utf-8') as file:\n",
    "        for line in file:\n",
    "            data.append(json.loads(line))\n",
    "    return pd.DataFrame(data)\n",
    "\n",
    "def merge_jsonl_to_dataframe(file_pattern):\n",
    "    \"\"\"Fonction pour fusionner plusieurs fichiers JSONL en un seul DataFrame pandas\"\"\"\n",
    "    # Récupérer la liste des fichiers correspondant au modèle fourni\n",
    "    files = glob(file_pattern)\n",
    "    \n",
    "    \n",
    "    # Lire chaque fichier JSONL et stocker les DataFrames individuels dans une liste\n",
    "    dfs = [jsonl_to_dataframe(file) for file in files]\n",
    "    # Concaténer les DataFrames\n",
    "    merged_df = pd.concat(dfs, ignore_index=True)\n",
    "    \n",
    "    return merged_df\n",
    "\n",
    "# Modèle de chemin vers les fichiers JSONL à fusionner\n",
    "file_pattern = \"data/*.jsonl\"\n",
    "\n",
    "# Appel de la fonction pour fusionner les fichiers JSONL en un DataFrame\n",
    "df = merge_jsonl_to_dataframe(file_pattern)\n",
    "\n",
    "# Afficher le DataFrame fusionné\n",
    "len(df)"
   ]
  },
  {
   "cell_type": "code",
   "execution_count": 4,
   "metadata": {},
   "outputs": [
    {
     "name": "stdout",
     "output_type": "stream",
     "text": [
      "38915\n"
     ]
    },
    {
     "data": {
      "text/plain": [
       "9729"
      ]
     },
     "execution_count": 4,
     "metadata": {},
     "output_type": "execute_result"
    }
   ],
   "source": [
    "train_df, test_df = train_test_split(df, test_size=0.2, random_state=42)\n",
    "print(len(train_df))\n",
    "len(test_df)"
   ]
  },
  {
   "cell_type": "code",
   "execution_count": 5,
   "metadata": {},
   "outputs": [
    {
     "data": {
      "text/html": [
       "<div>\n",
       "<style scoped>\n",
       "    .dataframe tbody tr th:only-of-type {\n",
       "        vertical-align: middle;\n",
       "    }\n",
       "\n",
       "    .dataframe tbody tr th {\n",
       "        vertical-align: top;\n",
       "    }\n",
       "\n",
       "    .dataframe thead th {\n",
       "        text-align: right;\n",
       "    }\n",
       "</style>\n",
       "<table border=\"1\" class=\"dataframe\">\n",
       "  <thead>\n",
       "    <tr style=\"text-align: right;\">\n",
       "      <th></th>\n",
       "      <th>question</th>\n",
       "      <th>human_answers</th>\n",
       "      <th>chatgpt_answers</th>\n",
       "      <th>index</th>\n",
       "      <th>source</th>\n",
       "    </tr>\n",
       "  </thead>\n",
       "  <tbody>\n",
       "    <tr>\n",
       "      <th>32520</th>\n",
       "      <td>The Price is Right did NOT give away 215,000 p...</td>\n",
       "      <td>[There are a few possibilities here : 1 ) The ...</td>\n",
       "      <td>[Game shows like \"The Price is Right\" typicall...</td>\n",
       "      <td>NaN</td>\n",
       "      <td>NaN</td>\n",
       "    </tr>\n",
       "    <tr>\n",
       "      <th>34336</th>\n",
       "      <td>Grinding teeth / clenching jaw in sleep What c...</td>\n",
       "      <td>[It 's actually a condition . URL_0 I wear a m...</td>\n",
       "      <td>[Grinding teeth and clenching the jaw while yo...</td>\n",
       "      <td>NaN</td>\n",
       "      <td>NaN</td>\n",
       "    </tr>\n",
       "    <tr>\n",
       "      <th>32715</th>\n",
       "      <td>When saline or other medicine is given to pati...</td>\n",
       "      <td>[It can but in most cases it is n't wo n't ! F...</td>\n",
       "      <td>[When saline solution or other medications are...</td>\n",
       "      <td>NaN</td>\n",
       "      <td>NaN</td>\n",
       "    </tr>\n",
       "    <tr>\n",
       "      <th>44579</th>\n",
       "      <td>What is an API and how is it used ? If you are...</td>\n",
       "      <td>[API - Application Programming Interface - thi...</td>\n",
       "      <td>[An API, or Application Programming Interface,...</td>\n",
       "      <td>NaN</td>\n",
       "      <td>NaN</td>\n",
       "    </tr>\n",
       "    <tr>\n",
       "      <th>14761</th>\n",
       "      <td>The Arguments Against Nuclear Power I feel lik...</td>\n",
       "      <td>[[ TED Debate : Does the world need nuclear en...</td>\n",
       "      <td>[Nuclear power is a method of generating elect...</td>\n",
       "      <td>NaN</td>\n",
       "      <td>reddit_eli5</td>\n",
       "    </tr>\n",
       "  </tbody>\n",
       "</table>\n",
       "</div>"
      ],
      "text/plain": [
       "                                                question  \\\n",
       "32520  The Price is Right did NOT give away 215,000 p...   \n",
       "34336  Grinding teeth / clenching jaw in sleep What c...   \n",
       "32715  When saline or other medicine is given to pati...   \n",
       "44579  What is an API and how is it used ? If you are...   \n",
       "14761  The Arguments Against Nuclear Power I feel lik...   \n",
       "\n",
       "                                           human_answers  \\\n",
       "32520  [There are a few possibilities here : 1 ) The ...   \n",
       "34336  [It 's actually a condition . URL_0 I wear a m...   \n",
       "32715  [It can but in most cases it is n't wo n't ! F...   \n",
       "44579  [API - Application Programming Interface - thi...   \n",
       "14761  [[ TED Debate : Does the world need nuclear en...   \n",
       "\n",
       "                                         chatgpt_answers  index       source  \n",
       "32520  [Game shows like \"The Price is Right\" typicall...    NaN          NaN  \n",
       "34336  [Grinding teeth and clenching the jaw while yo...    NaN          NaN  \n",
       "32715  [When saline solution or other medications are...    NaN          NaN  \n",
       "44579  [An API, or Application Programming Interface,...    NaN          NaN  \n",
       "14761  [Nuclear power is a method of generating elect...    NaN  reddit_eli5  "
      ]
     },
     "execution_count": 5,
     "metadata": {},
     "output_type": "execute_result"
    }
   ],
   "source": [
    "train_df.head()"
   ]
  },
  {
   "cell_type": "code",
   "execution_count": 6,
   "metadata": {},
   "outputs": [
    {
     "data": {
      "text/html": [
       "<div>\n",
       "<style scoped>\n",
       "    .dataframe tbody tr th:only-of-type {\n",
       "        vertical-align: middle;\n",
       "    }\n",
       "\n",
       "    .dataframe tbody tr th {\n",
       "        vertical-align: top;\n",
       "    }\n",
       "\n",
       "    .dataframe thead th {\n",
       "        text-align: right;\n",
       "    }\n",
       "</style>\n",
       "<table border=\"1\" class=\"dataframe\">\n",
       "  <thead>\n",
       "    <tr style=\"text-align: right;\">\n",
       "      <th></th>\n",
       "      <th>question</th>\n",
       "      <th>human_answers</th>\n",
       "      <th>chatgpt_answers</th>\n",
       "      <th>index</th>\n",
       "      <th>source</th>\n",
       "    </tr>\n",
       "  </thead>\n",
       "  <tbody>\n",
       "    <tr>\n",
       "      <th>1941</th>\n",
       "      <td>LDAP I use it every day and I still ca n't wra...</td>\n",
       "      <td>[Its a giant phonebook that provides informati...</td>\n",
       "      <td>[Sure! LDAP stands for Lightweight Directory A...</td>\n",
       "      <td>334.0</td>\n",
       "      <td>reddit_eli5</td>\n",
       "    </tr>\n",
       "    <tr>\n",
       "      <th>40004</th>\n",
       "      <td>Does a microwave take time to \" warm up \" ? Is...</td>\n",
       "      <td>[The output remains the same regardless of how...</td>\n",
       "      <td>[A microwave does not need to \"warm up\" like a...</td>\n",
       "      <td>NaN</td>\n",
       "      <td>NaN</td>\n",
       "    </tr>\n",
       "    <tr>\n",
       "      <th>15107</th>\n",
       "      <td>Gametheory In particular how do I find the Nas...</td>\n",
       "      <td>[jumpup has decent explanations but misses qui...</td>\n",
       "      <td>[Sure! Let's start with the Nash Equilibrium.\\...</td>\n",
       "      <td>NaN</td>\n",
       "      <td>reddit_eli5</td>\n",
       "    </tr>\n",
       "    <tr>\n",
       "      <th>25858</th>\n",
       "      <td>who designed the statue of liberty</td>\n",
       "      <td>[The Statue of Liberty (Liberty Enlightening t...</td>\n",
       "      <td>[The Statue of Liberty was designed by French ...</td>\n",
       "      <td>NaN</td>\n",
       "      <td>NaN</td>\n",
       "    </tr>\n",
       "    <tr>\n",
       "      <th>29186</th>\n",
       "      <td>Rocky Horror Show Seriously , the ending left ...</td>\n",
       "      <td>[Omigod I love that movie so much . ( Do n't j...</td>\n",
       "      <td>[The Rocky Horror Show is a musical with a cul...</td>\n",
       "      <td>NaN</td>\n",
       "      <td>NaN</td>\n",
       "    </tr>\n",
       "  </tbody>\n",
       "</table>\n",
       "</div>"
      ],
      "text/plain": [
       "                                                question  \\\n",
       "1941   LDAP I use it every day and I still ca n't wra...   \n",
       "40004  Does a microwave take time to \" warm up \" ? Is...   \n",
       "15107  Gametheory In particular how do I find the Nas...   \n",
       "25858                 who designed the statue of liberty   \n",
       "29186  Rocky Horror Show Seriously , the ending left ...   \n",
       "\n",
       "                                           human_answers  \\\n",
       "1941   [Its a giant phonebook that provides informati...   \n",
       "40004  [The output remains the same regardless of how...   \n",
       "15107  [jumpup has decent explanations but misses qui...   \n",
       "25858  [The Statue of Liberty (Liberty Enlightening t...   \n",
       "29186  [Omigod I love that movie so much . ( Do n't j...   \n",
       "\n",
       "                                         chatgpt_answers  index       source  \n",
       "1941   [Sure! LDAP stands for Lightweight Directory A...  334.0  reddit_eli5  \n",
       "40004  [A microwave does not need to \"warm up\" like a...    NaN          NaN  \n",
       "15107  [Sure! Let's start with the Nash Equilibrium.\\...    NaN  reddit_eli5  \n",
       "25858  [The Statue of Liberty was designed by French ...    NaN          NaN  \n",
       "29186  [The Rocky Horror Show is a musical with a cul...    NaN          NaN  "
      ]
     },
     "execution_count": 6,
     "metadata": {},
     "output_type": "execute_result"
    }
   ],
   "source": [
    "test_df.head()"
   ]
  },
  {
   "cell_type": "code",
   "execution_count": 7,
   "metadata": {},
   "outputs": [
    {
     "data": {
      "text/plain": [
       "source\n",
       "reddit_eli5    13721\n",
       "finance         3154\n",
       "medicine        1017\n",
       "open_qa          949\n",
       "wiki_csai        656\n",
       "Name: count, dtype: int64"
      ]
     },
     "execution_count": 7,
     "metadata": {},
     "output_type": "execute_result"
    }
   ],
   "source": [
    "train_df.source.value_counts()"
   ]
  },
  {
   "cell_type": "markdown",
   "metadata": {},
   "source": [
    "# 2. Exploring the data\n",
    "\n",
    "Whenever we start working with a new dataset, and before we move on to making design decisions and creating a model, we have to get to know our data. Let’s answer some questions regarding our dataset:\n",
    "\n",
    "**What does human_answers or chatgpt_answers looks like?**"
   ]
  },
  {
   "cell_type": "code",
   "execution_count": 8,
   "metadata": {},
   "outputs": [
    {
     "data": {
      "text/plain": [
       "['Basically there are many categories of \" Best Seller \" . Replace \" Best Seller \" by something like \" Oscars \" and every \" best seller \" book is basically an \" oscar - winning \" book . May not have won the \" Best film \" , but even if you won the best director or best script , you \\'re still an \" oscar - winning \" film . Same thing for best sellers . Also , IIRC the rankings change every week or something like that . Some you might not be best seller one week , but you may be the next week . I guess even if you do n\\'t stay there for long , you still achieved the status . Hence , # 1 best seller .',\n",
       " \"If you 're hearing about it , it 's because it was a very good or very well - publicized book ( or both ) , and almost every good or well - publicized book will be # 1 on the NY Times bestseller list for at least a little bit . Kindof like how almost every big or good movies are # 1 at the box office on their opening weekend .\",\n",
       " \"One reason is lots of catagories . However , how the NY Times calculates its best seller list is n't comprehensive , and is pretty well understood by publishers . So publishers can [ buy a few books ] ( URL_0 ) in the right bookstores and send a book to the top of the list for at least a week .\"]"
      ]
     },
     "execution_count": 8,
     "metadata": {},
     "output_type": "execute_result"
    }
   ],
   "source": [
    "train_df.human_answers[0]"
   ]
  },
  {
   "cell_type": "code",
   "execution_count": 9,
   "metadata": {},
   "outputs": [
    {
     "data": {
      "text/plain": [
       "['There are many different best seller lists that are published by various organizations, and the New York Times is just one of them. The New York Times best seller list is a weekly list that ranks the best-selling books in the United States based on sales data from a number of different retailers. The list is published in the New York Times newspaper and is widely considered to be one of the most influential best seller lists in the book industry. \\nIt\\'s important to note that the New York Times best seller list is not the only best seller list out there, and there are many other lists that rank the top-selling books in different categories or in different countries. So it\\'s possible that a book could be a best seller on one list but not on another. \\nAdditionally, the term \"best seller\" is often used more broadly to refer to any book that is selling well, regardless of whether it is on a specific best seller list or not. So it\\'s possible that you may hear about a book being a \"best seller\" even if it is not specifically ranked as a number one best seller on the New York Times list or any other list.']"
      ]
     },
     "execution_count": 9,
     "metadata": {},
     "output_type": "execute_result"
    }
   ],
   "source": [
    "train_df.chatgpt_answers[0]"
   ]
  },
  {
   "cell_type": "markdown",
   "metadata": {},
   "source": [
    "**How long are the responses? from humans? from chatgpt?**"
   ]
  },
  {
   "cell_type": "code",
   "execution_count": 10,
   "metadata": {},
   "outputs": [
    {
     "name": "stdout",
     "output_type": "stream",
     "text": [
      "Mean responses length:  2.4094308107413593\n",
      "Min overview length:  1\n",
      "Max overview length:  3\n"
     ]
    },
    {
     "data": {
      "text/plain": [
       "<Axes: ylabel='Frequency'>"
      ]
     },
     "execution_count": 10,
     "metadata": {},
     "output_type": "execute_result"
    },
    {
     "data": {
      "image/png": "[encoded data removed]",
      "text/plain": [
       "<Figure size 640x480 with 1 Axes>"
      ]
     },
     "metadata": {},
     "output_type": "display_data"
    }
   ],
   "source": [
    "#Human \n",
    "\n",
    "train_df['responses_length'] = train_df.human_answers.apply(len)\n",
    "print(\"Mean responses length: \", train_df['responses_length'].mean())\n",
    "print(\"Min overview length: \", train_df['responses_length'].min())\n",
    "print(\"Max overview length: \", train_df['responses_length'].max())\n",
    "train_df.responses_length.plot.hist()"
   ]
  },
  {
   "cell_type": "code",
   "execution_count": 11,
   "metadata": {},
   "outputs": [
    {
     "name": "stdout",
     "output_type": "stream",
     "text": [
      "Mean responses length:  1.10517795194655\n",
      "Min overview length:  0\n",
      "Max overview length:  3\n"
     ]
    },
    {
     "data": {
      "text/plain": [
       "<Axes: ylabel='Frequency'>"
      ]
     },
     "execution_count": 11,
     "metadata": {},
     "output_type": "execute_result"
    },
    {
     "data": {
      "image/png": "[encoded data removed]",
      "text/plain": [
       "<Figure size 640x480 with 1 Axes>"
      ]
     },
     "metadata": {},
     "output_type": "display_data"
    }
   ],
   "source": [
    "#Chatgpt\n",
    "\n",
    "train_df['responses_length'] = train_df.chatgpt_answers.apply(len)\n",
    "print(\"Mean responses length: \", train_df['responses_length'].mean())\n",
    "print(\"Min overview length: \", train_df['responses_length'].min())\n",
    "print(\"Max overview length: \", train_df['responses_length'].max())\n",
    "train_df.responses_length.plot.hist()"
   ]
  },
  {
   "cell_type": "markdown",
   "metadata": {},
   "source": [
    "**A word cloud to see what are the most common words in the responses**"
   ]
  },
  {
   "cell_type": "code",
   "execution_count": null,
   "metadata": {},
   "outputs": [],
   "source": [
    "#Human\n",
    "from wordcloud import WordCloud, STOPWORDS\n",
    "stopwords = set(STOPWORDS)\n",
    "action = movies_data[movies_data['target'] == True]\n",
    "action_text = action['Description'].values\n",
    "wordcloud = WordCloud(stopwords=stopwords, background_color='white', height=2000, width=4000).generate(str(action_text))\n",
    "plt.figure(figsize=(16,8))\n",
    "plt.imshow(wordcloud)\n",
    "plt.axis('off')\n",
    "plt.show()"
   ]
  },
  {
   "cell_type": "code",
   "execution_count": null,
   "metadata": {},
   "outputs": [],
   "source": [
    "#Chatgpt\n",
    "\n",
    "#we will create a word cloud to see the most common words in the descriptions if the movie is action\n",
    "from wordcloud import WordCloud, STOPWORDS\n",
    "stopwords = set(STOPWORDS)\n",
    "action = movies_data[movies_data['target'] == True]\n",
    "action_text = action['Description'].values\n",
    "wordcloud = WordCloud(stopwords=stopwords, background_color='white', height=2000, width=4000).generate(str(action_text))\n",
    "plt.figure(figsize=(16,8))\n",
    "plt.imshow(wordcloud)\n",
    "plt.axis('off')\n",
    "plt.show()"
   ]
  }
 ],
 "metadata": {
  "kernelspec": {
   "display_name": "base",
   "language": "python",
   "name": "python3"
  },
  "language_info": {
   "codemirror_mode": {
    "name": "ipython",
    "version": 3
   },
   "file_extension": ".py",
   "mimetype": "text/x-python",
   "name": "python",
   "nbconvert_exporter": "python",
   "pygments_lexer": "ipython3",
   "version": "3.11.6"
  }
 },
 "nbformat": 4,
 "nbformat_minor": 2
}
