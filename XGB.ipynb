{
 "cells": [
  {
   "cell_type": "code",
   "execution_count": 4,
   "metadata": {},
   "outputs": [],
   "source": [
    "import pandas as pd\n",
    "import json\n",
    "from glob import glob\n",
    "from sklearn.model_selection import train_test_split\n",
    "from sklearn.feature_extraction.text import TfidfVectorizer\n",
    "from sklearn.metrics import accuracy_score\n",
    "import xgboost as xgb\n",
    "\n",
    "\n",
    "def jsonl_to_dataframe(file_path):\n",
    "    return pd.read_json(file_path, lines=True)\n",
    "\n",
    "def merge_jsonl_to_dataframe(file_pattern):\n",
    "    files = glob(file_pattern)    \n",
    "    \n",
    "    dfs = [jsonl_to_dataframe(file) for file in files]\n",
    "    merged_df = pd.concat(dfs, ignore_index=True)\n",
    "    \n",
    "    return merged_df\n",
    "\n",
    "file_pattern = \"data/*.jsonl\"\n",
    "\n",
    "df = merge_jsonl_to_dataframe(file_pattern)\n",
    "\n",
    "human_df = pd.DataFrame({'answers': df['human_answers'], 'is_human': 1})\n",
    "gpt_df = pd.DataFrame({'answers': df['chatgpt_answers'], 'is_human': 0})\n",
    "answers_df = pd.concat([human_df, gpt_df], axis=0, ignore_index=True)\n",
    "\n",
    "answers_df['len'] = answers_df['answers'].apply(len)\n",
    "answers_df = answers_df.explode('answers', ignore_index=True)\n",
    "answers_df = answers_df.dropna(subset=['answers'])"
   ]
  },
  {
   "cell_type": "code",
   "execution_count": 9,
   "metadata": {},
   "outputs": [
    {
     "name": "stderr",
     "output_type": "stream",
     "text": [
      "[nltk_data] Downloading package wordnet to /home/onyxia/nltk_data...\n",
      "[nltk_data]   Package wordnet is already up-to-date!\n"
     ]
    },
    {
     "name": "stdout",
     "output_type": "stream",
     "text": [
      "ok\n"
     ]
    }
   ],
   "source": [
    "import nltk\n",
    "from nltk.corpus import stopwords\n",
    "from nltk.stem import WordNetLemmatizer\n",
    "import re\n",
    "\n",
    "nltk.download('wordnet')\n",
    "stop_words = stopwords.words('english')\n",
    "wnl = WordNetLemmatizer()\n",
    "\n",
    "def preprocess(text_column):\n",
    "    new_review = []\n",
    "    for review in text_column:\n",
    "        text = re.sub(\"@\\S+|https?:\\S+|http?:\\S|[^A-Za-z0-9]+\", ' ', str(review).lower()).strip()\n",
    "        text = [wnl.lemmatize(i) for i in text.split(' ') if i not in stop_words]\n",
    "        new_review.append(' '.join(text))\n",
    "    return new_review\n",
    "\n",
    "answers_df[\"answers\"] = preprocess(answers_df[\"answers\"])"
   ]
  },
  {
   "cell_type": "code",
   "execution_count": 10,
   "metadata": {},
   "outputs": [],
   "source": [
    "from sklearn.feature_extraction.text import CountVectorizer, TfidfVectorizer\n",
    "\n",
    "X = answers_df[\"answers\"]\n",
    "y = answers_df[\"is_human\"]\n",
    "\n",
    "X_train, X_test, y_train, y_test = train_test_split(X, y, test_size=0.2, random_state=42)\n",
    "\n",
    "cv = TfidfVectorizer()\n",
    "cv.fit(answers_df[\"answers\"])\n",
    "X_train = cv.transform(X_train)\n",
    "X_test = cv.transform(X_test)"
   ]
  },
  {
   "cell_type": "code",
   "execution_count": 25,
   "metadata": {},
   "outputs": [
    {
     "ename": "ModuleNotFoundError",
     "evalue": "No module named 'concrete'",
     "output_type": "error",
     "traceback": [
      "\u001b[0;31m---------------------------------------------------------------------------\u001b[0m",
      "\u001b[0;31mModuleNotFoundError\u001b[0m                       Traceback (most recent call last)",
      "\u001b[1;32m/home/onyxia/work/Hackathon-IAvsAI/XGB.ipynb Cell 4\u001b[0m line \u001b[0;36m3\n\u001b[1;32m      <a href='vscode-notebook-cell://user-pdht-242065-0.user.lab.sspcloud.fr/home/onyxia/work/Hackathon-IAvsAI/XGB.ipynb#W3sdnNjb2RlLXJlbW90ZQ%3D%3D?line=0'>1</a>\u001b[0m \u001b[39mimport\u001b[39;00m \u001b[39mmultiprocessing\u001b[39;00m\n\u001b[1;32m      <a href='vscode-notebook-cell://user-pdht-242065-0.user.lab.sspcloud.fr/home/onyxia/work/Hackathon-IAvsAI/XGB.ipynb#W3sdnNjb2RlLXJlbW90ZQ%3D%3D?line=1'>2</a>\u001b[0m \u001b[39mfrom\u001b[39;00m \u001b[39msklearn\u001b[39;00m\u001b[39m.\u001b[39;00m\u001b[39mmodel_selection\u001b[39;00m \u001b[39mimport\u001b[39;00m GridSearchCV\n\u001b[0;32m----> <a href='vscode-notebook-cell://user-pdht-242065-0.user.lab.sspcloud.fr/home/onyxia/work/Hackathon-IAvsAI/XGB.ipynb#W3sdnNjb2RlLXJlbW90ZQ%3D%3D?line=2'>3</a>\u001b[0m \u001b[39mfrom\u001b[39;00m \u001b[39mconcrete\u001b[39;00m\u001b[39m.\u001b[39;00m\u001b[39mml\u001b[39;00m\u001b[39m.\u001b[39;00m\u001b[39msklearn\u001b[39;00m \u001b[39mimport\u001b[39;00m XGBClassifier \u001b[39mas\u001b[39;00m ConcreteXGBClassifier\n\u001b[1;32m      <a href='vscode-notebook-cell://user-pdht-242065-0.user.lab.sspcloud.fr/home/onyxia/work/Hackathon-IAvsAI/XGB.ipynb#W3sdnNjb2RlLXJlbW90ZQ%3D%3D?line=5'>6</a>\u001b[0m model \u001b[39m=\u001b[39m ConcreteXGBClassifier(n_jobs\u001b[39m=\u001b[39m\u001b[39m1\u001b[39m, max_depth\u001b[39m=\u001b[39m\u001b[39m6\u001b[39m, n_estimators\u001b[39m=\u001b[39m\u001b[39m500\u001b[39m)\n\u001b[1;32m      <a href='vscode-notebook-cell://user-pdht-242065-0.user.lab.sspcloud.fr/home/onyxia/work/Hackathon-IAvsAI/XGB.ipynb#W3sdnNjb2RlLXJlbW90ZQ%3D%3D?line=7'>8</a>\u001b[0m \u001b[39m\"\"\"\u001b[39;00m\n\u001b[1;32m      <a href='vscode-notebook-cell://user-pdht-242065-0.user.lab.sspcloud.fr/home/onyxia/work/Hackathon-IAvsAI/XGB.ipynb#W3sdnNjb2RlLXJlbW90ZQ%3D%3D?line=8'>9</a>\u001b[0m \u001b[39mn_estimators_list = [1, 5, 10, 20] + [20 * i for i in range(2, 11)] + [50 * i for i in range(5, 11)]\u001b[39;00m\n\u001b[1;32m     <a href='vscode-notebook-cell://user-pdht-242065-0.user.lab.sspcloud.fr/home/onyxia/work/Hackathon-IAvsAI/XGB.ipynb#W3sdnNjb2RlLXJlbW90ZQ%3D%3D?line=9'>10</a>\u001b[0m \u001b[39mparam_grid = {\u001b[39;00m\n\u001b[0;32m   (...)\u001b[0m\n\u001b[1;32m     <a href='vscode-notebook-cell://user-pdht-242065-0.user.lab.sspcloud.fr/home/onyxia/work/Hackathon-IAvsAI/XGB.ipynb#W3sdnNjb2RlLXJlbW90ZQ%3D%3D?line=19'>20</a>\u001b[0m \u001b[39m    )\u001b[39;00m\n\u001b[1;32m     <a href='vscode-notebook-cell://user-pdht-242065-0.user.lab.sspcloud.fr/home/onyxia/work/Hackathon-IAvsAI/XGB.ipynb#W3sdnNjb2RlLXJlbW90ZQ%3D%3D?line=20'>21</a>\u001b[0m \u001b[39m\"\"\"\u001b[39;00m\n",
      "\u001b[0;31mModuleNotFoundError\u001b[0m: No module named 'concrete'"
     ]
    }
   ],
   "source": [
    "import multiprocessing\n",
    "from sklearn.model_selection import GridSearchCV\n",
    "\n",
    "\n",
    "model = xgb.XGBClassifier(n_jobs=1, max_depth=6, n_estimators=500)\n",
    "\n",
    "\"\"\"\n",
    "n_estimators_list = [1, 5, 10, 20] + [20 * i for i in range(2, 11)] + [50 * i for i in range(5, 11)]\n",
    "param_grid = {\n",
    "    \"max_depth\": [6],\n",
    "    \"n_estimators\": [500],\n",
    "}\n",
    "\n",
    "clf = GridSearchCV(\n",
    "        model,\n",
    "        param_grid,\n",
    "        verbose=1,\n",
    "        n_jobs=2,\n",
    "    )\n",
    "\"\"\""
   ]
  },
  {
   "cell_type": "code",
   "execution_count": 13,
   "metadata": {},
   "outputs": [
    {
     "data": {
      "text/plain": [
       "0.9903452311293154"
      ]
     },
     "execution_count": 13,
     "metadata": {},
     "output_type": "execute_result"
    }
   ],
   "source": [
    "model.fit(X_train, y_train)\n",
    "y_pred = model.predict(X_test)\n",
    "accuracy_score(y_test, y_pred)"
   ]
  },
  {
   "cell_type": "code",
   "execution_count": null,
   "metadata": {},
   "outputs": [],
   "source": [
    "import pickle\n",
    "\n",
    "filename = \"XGB2.pickle\"\n",
    "pickle.dump(model, open(filename, \"wb\"))"
   ]
  },
  {
   "cell_type": "code",
   "execution_count": 17,
   "metadata": {},
   "outputs": [
    {
     "data": {
      "text/plain": [
       "array([1])"
      ]
     },
     "execution_count": 17,
     "metadata": {},
     "output_type": "execute_result"
    }
   ],
   "source": [
    "#print(model.best_params_)\n",
    "test = cv.transform([\"Hello it is the IA\"])\n",
    "model.predict(test)"
   ]
  },
  {
   "cell_type": "code",
   "execution_count": 23,
   "metadata": {},
   "outputs": [
    {
     "name": "stdout",
     "output_type": "stream",
     "text": [
      "Question : Who is the strongest between Itachi and Jiraya?\n",
      "Human Answer: [Itachi is stronger by far] the model thinks it was written by a HUMAN \n",
      "GPT Answer: [It's hard to determine co] the model thinks it was written by a HUMAN \n"
     ]
    }
   ],
   "source": [
    "test_answers = [\n",
    "\n",
    "    ('Who is the strongest between Itachi and Jiraya?', \n",
    "    'Itachi is stronger by far an I can prove it ', \n",
    "    \"\"\"It's hard to determine conclusively who is stronger between Itachi and Jiraiya.\n",
    "     Both have unique strengths and weaknesses. Itachi excels in Sharingan and genjutsu mastery,\n",
    "      while Jiraiya is a proficient user of ninjutsu and senjutsu. Their relative power depends on various factors, \n",
    "      including their respective skills, combat strategies, and physical/mental condition during battle.\"\"\"\n",
    "    )\n",
    "]\n",
    "\n",
    "def human_or_gpt(n):\n",
    "    label = \"HUMAN\" if n == 1 else 'GPT'\n",
    "    return label\n",
    "\n",
    "\n",
    "def testsuite(model, tests):\n",
    "    for test in tests:\n",
    "        (qst, human, gpt) = test\n",
    "        print(f\"Question : {qst}\")\n",
    "        print(f\"Human Answer: [{human[:25]}] the model thinks it was written by a {human_or_gpt(model.predict(cv.transform([human])))} \")\n",
    "        print(f\"GPT Answer: [{gpt[:25]}] the model thinks it was written by a {human_or_gpt(model.predict(cv.transform([gpt])))} \")\n",
    "\n",
    "testsuite(model, test_answers)"
   ]
  }
 ],
 "metadata": {
  "kernelspec": {
   "display_name": "base",
   "language": "python",
   "name": "python3"
  },
  "language_info": {
   "codemirror_mode": {
    "name": "ipython",
    "version": 3
   },
   "file_extension": ".py",
   "mimetype": "text/x-python",
   "name": "python",
   "nbconvert_exporter": "python",
   "pygments_lexer": "ipython3",
   "version": "3.11.6"
  }
 },
 "nbformat": 4,
 "nbformat_minor": 2
}
