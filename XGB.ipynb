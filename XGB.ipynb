{
 "cells": [
  {
   "cell_type": "code",
   "execution_count": 34,
   "metadata": {},
   "outputs": [],
   "source": [
    "import pandas as pd\n",
    "import json\n",
    "from glob import glob\n",
    "from sklearn.model_selection import train_test_split\n",
    "from sklearn.feature_extraction.text import TfidfVectorizer\n",
    "from sklearn.metrics import accuracy_score\n",
    "import xgboost as xgb\n",
    "\n",
    "\n",
    "def jsonl_to_dataframe(file_path):\n",
    "    return pd.read_json(file_path, lines=True)\n",
    "\n",
    "def merge_jsonl_to_dataframe(file_pattern):\n",
    "    files = glob(file_pattern)    \n",
    "    \n",
    "    dfs = [jsonl_to_dataframe(file) for file in files]\n",
    "    merged_df = pd.concat(dfs, ignore_index=True)\n",
    "    \n",
    "    return merged_df\n",
    "\n",
    "file_pattern = \"data/*.jsonl\"\n",
    "\n",
    "df = merge_jsonl_to_dataframe(file_pattern)\n",
    "\n",
    "human_df = pd.DataFrame({'answers': df['human_answers'], 'is_human': 1})\n",
    "gpt_df = pd.DataFrame({'answers': df['chatgpt_answers'], 'is_human': 0})\n",
    "answers_df = pd.concat([human_df, gpt_df], axis=0, ignore_index=True)\n",
    "\n",
    "answers_df['len'] = answers_df['answers'].apply(len)\n",
    "answers_df = answers_df.explode('answers', ignore_index=True)\n",
    "answers_df = answers_df.dropna(subset=['answers'])"
   ]
  },
  {
   "cell_type": "code",
   "execution_count": 35,
   "metadata": {},
   "outputs": [
    {
     "name": "stderr",
     "output_type": "stream",
     "text": [
      "[nltk_data] Downloading package stopwords to /home/onyxia/nltk_data...\n",
      "[nltk_data]   Package stopwords is already up-to-date!\n",
      "[nltk_data] Downloading package wordnet to /home/onyxia/nltk_data...\n",
      "[nltk_data]   Package wordnet is already up-to-date!\n"
     ]
    }
   ],
   "source": [
    "import nltk\n",
    "from nltk.stem import WordNetLemmatizer\n",
    "import re\n",
    "\n",
    "nltk.download('stopwords')\n",
    "nltk.download('wordnet')\n",
    "stop_words = stopwords.words('english')\n",
    "wnl = WordNetLemmatizer()\n",
    "\n",
    "def preprocess(text_column):\n",
    "    new_review = []\n",
    "    for review in text_column:\n",
    "        text = re.sub(\"@\\S+|https?:\\S+|http?:\\S|[^A-Za-z0-9]+\", ' ', str(review).lower()).strip()\n",
    "        text = [wnl.lemmatize(i) for i in text.split(' ') if i not in stop_words]\n",
    "        new_review.append(' '.join(text))\n",
    "    return new_review\n",
    "\n",
    "answers_df[\"answers\"] = preprocess(answers_df[\"answers\"])"
   ]
  },
  {
   "cell_type": "code",
   "execution_count": 36,
   "metadata": {},
   "outputs": [],
   "source": [
    "from sklearn.feature_extraction.text import CountVectorizer, TfidfVectorizer\n",
    "\n",
    "X = answers_df[\"answers\"]\n",
    "y = answers_df[\"is_human\"]\n",
    "\n",
    "X_train, X_test, y_train, y_test = train_test_split(X, y, test_size=0.2, random_state=42)\n",
    "\n",
    "cv = TfidfVectorizer()\n",
    "cv.fit(answers_df[\"answers\"])\n",
    "X_train = cv.transform(X_train)\n",
    "X_test = cv.transform(X_test)"
   ]
  },
  {
   "cell_type": "code",
   "execution_count": 44,
   "metadata": {},
   "outputs": [
    {
     "data": {
      "text/plain": [
       "'\\nn_estimators_list = [1, 5, 10, 20] + [20 * i for i in range(2, 11)] + [50 * i for i in range(5, 11)]\\nparam_grid = {\\n    \"max_depth\": [6],\\n    \"n_estimators\": [500],\\n}\\n\\nclf = GridSearchCV(\\n        model,\\n        param_grid,\\n        verbose=1,\\n        n_jobs=2,\\n    )\\n'"
      ]
     },
     "execution_count": 44,
     "metadata": {},
     "output_type": "execute_result"
    }
   ],
   "source": [
    "import multiprocessing\n",
    "from sklearn.model_selection import GridSearchCV\n",
    "\n",
    "\n",
    "model = xgb.XGBClassifier(n_jobs=1, max_depth=6, n_estimators=500)\n",
    "\n",
    "\"\"\"\n",
    "n_estimators_list = [1, 5, 10, 20] + [20 * i for i in range(2, 11)] + [50 * i for i in range(5, 11)]\n",
    "param_grid = {\n",
    "    \"max_depth\": [6],\n",
    "    \"n_estimators\": [500],\n",
    "}\n",
    "\n",
    "clf = GridSearchCV(\n",
    "        model,\n",
    "        param_grid,\n",
    "        verbose=1,\n",
    "        n_jobs=2,\n",
    "    )\n",
    "\"\"\""
   ]
  },
  {
   "cell_type": "code",
   "execution_count": 45,
   "metadata": {},
   "outputs": [
    {
     "name": "stdout",
     "output_type": "stream",
     "text": [
      "Fitting 5 folds for each of 1 candidates, totalling 5 fits\n"
     ]
    },
    {
     "data": {
      "text/plain": [
       "0.9903452311293154"
      ]
     },
     "execution_count": 45,
     "metadata": {},
     "output_type": "execute_result"
    }
   ],
   "source": [
    "clf.fit(X_train, y_train)\n",
    "y_pred = clf.predict(X_test)\n",
    "accuracy_score(y_test, y_pred)"
   ]
  },
  {
   "cell_type": "code",
   "execution_count": 40,
   "metadata": {},
   "outputs": [],
   "source": [
    "import pickle\n",
    "\n",
    "filename = \"XGB2.pickle\"\n",
    "pickle.dump(clf, open(filename, \"wb\"))"
   ]
  },
  {
   "cell_type": "code",
   "execution_count": 46,
   "metadata": {},
   "outputs": [
    {
     "name": "stdout",
     "output_type": "stream",
     "text": [
      "{'max_depth': 6, 'n_estimators': 500}\n"
     ]
    },
    {
     "ename": "XGBoostError",
     "evalue": "[18:00:41] /home/conda/feedstock_root/build_artifacts/xgboost-split_1712072639327/work/src/data/file_iterator.cc:24: Check failed: name_args.size() == 2 (1 vs. 2) : URI parameter `format` is required for loading text data: filename?format=csv\nStack trace:\n  [bt] (0) /opt/mamba/lib/libxgboost.so(dmlc::LogMessageFatal::~LogMessageFatal()+0x6e) [0x7fb98b8582ee]\n  [bt] (1) /opt/mamba/lib/libxgboost.so(xgboost::data::ValidateFileFormat(std::__cxx11::basic_string<char, std::char_traits<char>, std::allocator<char> > const&)+0x971) [0x7fb98ba7db11]\n  [bt] (2) /opt/mamba/lib/libxgboost.so(xgboost::DMatrix::Load(std::__cxx11::basic_string<char, std::char_traits<char>, std::allocator<char> > const&, bool, xgboost::DataSplitMode)+0x821) [0x7fb98ba32ba1]\n  [bt] (3) /opt/mamba/lib/libxgboost.so(XGDMatrixCreateFromURI+0xf1) [0x7fb98b8408a1]\n  [bt] (4) /opt/mamba/lib/python3.11/lib-dynload/../../libffi.so.8(+0x6a4a) [0x7fbc281cfa4a]\n  [bt] (5) /opt/mamba/lib/python3.11/lib-dynload/../../libffi.so.8(+0x5fea) [0x7fbc281cefea]\n  [bt] (6) /opt/mamba/lib/python3.11/lib-dynload/_ctypes.cpython-311-x86_64-linux-gnu.so(+0x12529) [0x7fbc281e7529]\n  [bt] (7) /opt/mamba/lib/python3.11/lib-dynload/_ctypes.cpython-311-x86_64-linux-gnu.so(+0x8862) [0x7fbc281dd862]\n  [bt] (8) /opt/mamba/bin/python(_PyObject_MakeTpCall+0x253) [0x56209aababd3]\n\n",
     "output_type": "error",
     "traceback": [
      "\u001b[0;31m---------------------------------------------------------------------------\u001b[0m",
      "\u001b[0;31mXGBoostError\u001b[0m                              Traceback (most recent call last)",
      "\u001b[1;32m/home/onyxia/work/Hackathon-IAvsAI/XGB.ipynb Cell 7\u001b[0m line \u001b[0;36m2\n\u001b[1;32m      <a href='vscode-notebook-cell://user-pdht-242065-0.user.lab.sspcloud.fr/home/onyxia/work/Hackathon-IAvsAI/XGB.ipynb#X16sdnNjb2RlLXJlbW90ZQ%3D%3D?line=0'>1</a>\u001b[0m \u001b[39mprint\u001b[39m(clf\u001b[39m.\u001b[39mbest_params_)\n\u001b[0;32m----> <a href='vscode-notebook-cell://user-pdht-242065-0.user.lab.sspcloud.fr/home/onyxia/work/Hackathon-IAvsAI/XGB.ipynb#X16sdnNjb2RlLXJlbW90ZQ%3D%3D?line=1'>2</a>\u001b[0m clf\u001b[39m.\u001b[39;49mpredict(\u001b[39m\"\u001b[39;49m\u001b[39mHello it is the IA\u001b[39;49m\u001b[39m\"\u001b[39;49m)\n",
      "File \u001b[0;32m/opt/mamba/lib/python3.11/site-packages/sklearn/model_selection/_search.py:546\u001b[0m, in \u001b[0;36mBaseSearchCV.predict\u001b[0;34m(self, X)\u001b[0m\n\u001b[1;32m    528\u001b[0m \u001b[39m\u001b[39m\u001b[39m\"\"\"Call predict on the estimator with the best found parameters.\u001b[39;00m\n\u001b[1;32m    529\u001b[0m \n\u001b[1;32m    530\u001b[0m \u001b[39mOnly available if ``refit=True`` and the underlying estimator supports\u001b[39;00m\n\u001b[0;32m   (...)\u001b[0m\n\u001b[1;32m    543\u001b[0m \u001b[39m    the best found parameters.\u001b[39;00m\n\u001b[1;32m    544\u001b[0m \u001b[39m\"\"\"\u001b[39;00m\n\u001b[1;32m    545\u001b[0m check_is_fitted(\u001b[39mself\u001b[39m)\n\u001b[0;32m--> 546\u001b[0m \u001b[39mreturn\u001b[39;00m \u001b[39mself\u001b[39;49m\u001b[39m.\u001b[39;49mbest_estimator_\u001b[39m.\u001b[39;49mpredict(X)\n",
      "File \u001b[0;32m/opt/mamba/lib/python3.11/site-packages/xgboost/sklearn.py:1553\u001b[0m, in \u001b[0;36mXGBClassifier.predict\u001b[0;34m(self, X, output_margin, validate_features, base_margin, iteration_range)\u001b[0m\n\u001b[1;32m   1544\u001b[0m \u001b[39mdef\u001b[39;00m \u001b[39mpredict\u001b[39m(\n\u001b[1;32m   1545\u001b[0m     \u001b[39mself\u001b[39m,\n\u001b[1;32m   1546\u001b[0m     X: ArrayLike,\n\u001b[0;32m   (...)\u001b[0m\n\u001b[1;32m   1550\u001b[0m     iteration_range: Optional[Tuple[\u001b[39mint\u001b[39m, \u001b[39mint\u001b[39m]] \u001b[39m=\u001b[39m \u001b[39mNone\u001b[39;00m,\n\u001b[1;32m   1551\u001b[0m ) \u001b[39m-\u001b[39m\u001b[39m>\u001b[39m ArrayLike:\n\u001b[1;32m   1552\u001b[0m     \u001b[39mwith\u001b[39;00m config_context(verbosity\u001b[39m=\u001b[39m\u001b[39mself\u001b[39m\u001b[39m.\u001b[39mverbosity):\n\u001b[0;32m-> 1553\u001b[0m         class_probs \u001b[39m=\u001b[39m \u001b[39msuper\u001b[39;49m()\u001b[39m.\u001b[39;49mpredict(\n\u001b[1;32m   1554\u001b[0m             X\u001b[39m=\u001b[39;49mX,\n\u001b[1;32m   1555\u001b[0m             output_margin\u001b[39m=\u001b[39;49moutput_margin,\n\u001b[1;32m   1556\u001b[0m             validate_features\u001b[39m=\u001b[39;49mvalidate_features,\n\u001b[1;32m   1557\u001b[0m             base_margin\u001b[39m=\u001b[39;49mbase_margin,\n\u001b[1;32m   1558\u001b[0m             iteration_range\u001b[39m=\u001b[39;49miteration_range,\n\u001b[1;32m   1559\u001b[0m         )\n\u001b[1;32m   1560\u001b[0m         \u001b[39mif\u001b[39;00m output_margin:\n\u001b[1;32m   1561\u001b[0m             \u001b[39m# If output_margin is active, simply return the scores\u001b[39;00m\n\u001b[1;32m   1562\u001b[0m             \u001b[39mreturn\u001b[39;00m class_probs\n",
      "File \u001b[0;32m/opt/mamba/lib/python3.11/site-packages/xgboost/sklearn.py:1185\u001b[0m, in \u001b[0;36mXGBModel.predict\u001b[0;34m(self, X, output_margin, validate_features, base_margin, iteration_range)\u001b[0m\n\u001b[1;32m   1181\u001b[0m     \u001b[39mexcept\u001b[39;00m \u001b[39mTypeError\u001b[39;00m:\n\u001b[1;32m   1182\u001b[0m         \u001b[39m# coo, csc, dt\u001b[39;00m\n\u001b[1;32m   1183\u001b[0m         \u001b[39mpass\u001b[39;00m\n\u001b[0;32m-> 1185\u001b[0m test \u001b[39m=\u001b[39m DMatrix(\n\u001b[1;32m   1186\u001b[0m     X,\n\u001b[1;32m   1187\u001b[0m     base_margin\u001b[39m=\u001b[39;49mbase_margin,\n\u001b[1;32m   1188\u001b[0m     missing\u001b[39m=\u001b[39;49m\u001b[39mself\u001b[39;49m\u001b[39m.\u001b[39;49mmissing,\n\u001b[1;32m   1189\u001b[0m     nthread\u001b[39m=\u001b[39;49m\u001b[39mself\u001b[39;49m\u001b[39m.\u001b[39;49mn_jobs,\n\u001b[1;32m   1190\u001b[0m     feature_types\u001b[39m=\u001b[39;49m\u001b[39mself\u001b[39;49m\u001b[39m.\u001b[39;49mfeature_types,\n\u001b[1;32m   1191\u001b[0m     enable_categorical\u001b[39m=\u001b[39;49m\u001b[39mself\u001b[39;49m\u001b[39m.\u001b[39;49menable_categorical,\n\u001b[1;32m   1192\u001b[0m )\n\u001b[1;32m   1193\u001b[0m \u001b[39mreturn\u001b[39;00m \u001b[39mself\u001b[39m\u001b[39m.\u001b[39mget_booster()\u001b[39m.\u001b[39mpredict(\n\u001b[1;32m   1194\u001b[0m     data\u001b[39m=\u001b[39mtest,\n\u001b[1;32m   1195\u001b[0m     iteration_range\u001b[39m=\u001b[39miteration_range,\n\u001b[1;32m   1196\u001b[0m     output_margin\u001b[39m=\u001b[39moutput_margin,\n\u001b[1;32m   1197\u001b[0m     validate_features\u001b[39m=\u001b[39mvalidate_features,\n\u001b[1;32m   1198\u001b[0m )\n",
      "File \u001b[0;32m/opt/mamba/lib/python3.11/site-packages/xgboost/core.py:730\u001b[0m, in \u001b[0;36mrequire_keyword_args.<locals>.throw_if.<locals>.inner_f\u001b[0;34m(*args, **kwargs)\u001b[0m\n\u001b[1;32m    728\u001b[0m \u001b[39mfor\u001b[39;00m k, arg \u001b[39min\u001b[39;00m \u001b[39mzip\u001b[39m(sig\u001b[39m.\u001b[39mparameters, args):\n\u001b[1;32m    729\u001b[0m     kwargs[k] \u001b[39m=\u001b[39m arg\n\u001b[0;32m--> 730\u001b[0m \u001b[39mreturn\u001b[39;00m func(\u001b[39m*\u001b[39;49m\u001b[39m*\u001b[39;49mkwargs)\n",
      "File \u001b[0;32m/opt/mamba/lib/python3.11/site-packages/xgboost/core.py:857\u001b[0m, in \u001b[0;36mDMatrix.__init__\u001b[0;34m(self, data, label, weight, base_margin, missing, silent, feature_names, feature_types, nthread, group, qid, label_lower_bound, label_upper_bound, feature_weights, enable_categorical, data_split_mode)\u001b[0m\n\u001b[1;32m    854\u001b[0m     \u001b[39massert\u001b[39;00m \u001b[39mself\u001b[39m\u001b[39m.\u001b[39mhandle \u001b[39mis\u001b[39;00m \u001b[39mnot\u001b[39;00m \u001b[39mNone\u001b[39;00m\n\u001b[1;32m    855\u001b[0m     \u001b[39mreturn\u001b[39;00m\n\u001b[0;32m--> 857\u001b[0m handle, feature_names, feature_types \u001b[39m=\u001b[39m dispatch_data_backend(\n\u001b[1;32m    858\u001b[0m     data,\n\u001b[1;32m    859\u001b[0m     missing\u001b[39m=\u001b[39;49m\u001b[39mself\u001b[39;49m\u001b[39m.\u001b[39;49mmissing,\n\u001b[1;32m    860\u001b[0m     threads\u001b[39m=\u001b[39;49m\u001b[39mself\u001b[39;49m\u001b[39m.\u001b[39;49mnthread,\n\u001b[1;32m    861\u001b[0m     feature_names\u001b[39m=\u001b[39;49mfeature_names,\n\u001b[1;32m    862\u001b[0m     feature_types\u001b[39m=\u001b[39;49mfeature_types,\n\u001b[1;32m    863\u001b[0m     enable_categorical\u001b[39m=\u001b[39;49menable_categorical,\n\u001b[1;32m    864\u001b[0m     data_split_mode\u001b[39m=\u001b[39;49mdata_split_mode,\n\u001b[1;32m    865\u001b[0m )\n\u001b[1;32m    866\u001b[0m \u001b[39massert\u001b[39;00m handle \u001b[39mis\u001b[39;00m \u001b[39mnot\u001b[39;00m \u001b[39mNone\u001b[39;00m\n\u001b[1;32m    867\u001b[0m \u001b[39mself\u001b[39m\u001b[39m.\u001b[39mhandle \u001b[39m=\u001b[39m handle\n",
      "File \u001b[0;32m/opt/mamba/lib/python3.11/site-packages/xgboost/data.py:1079\u001b[0m, in \u001b[0;36mdispatch_data_backend\u001b[0;34m(data, missing, threads, feature_names, feature_types, enable_categorical, data_split_mode)\u001b[0m\n\u001b[1;32m   1075\u001b[0m     \u001b[39mreturn\u001b[39;00m _from_numpy_array(\n\u001b[1;32m   1076\u001b[0m         data, missing, threads, feature_names, feature_types, data_split_mode\n\u001b[1;32m   1077\u001b[0m     )\n\u001b[1;32m   1078\u001b[0m \u001b[39mif\u001b[39;00m _is_uri(data):\n\u001b[0;32m-> 1079\u001b[0m     \u001b[39mreturn\u001b[39;00m _from_uri(data, missing, feature_names, feature_types, data_split_mode)\n\u001b[1;32m   1080\u001b[0m \u001b[39mif\u001b[39;00m _is_list(data):\n\u001b[1;32m   1081\u001b[0m     \u001b[39mreturn\u001b[39;00m _from_list(data, missing, threads, feature_names, feature_types)\n",
      "File \u001b[0;32m/opt/mamba/lib/python3.11/site-packages/xgboost/data.py:994\u001b[0m, in \u001b[0;36m_from_uri\u001b[0;34m(data, missing, feature_names, feature_types, data_split_mode)\u001b[0m\n\u001b[1;32m    989\u001b[0m args \u001b[39m=\u001b[39m {\n\u001b[1;32m    990\u001b[0m     \u001b[39m\"\u001b[39m\u001b[39muri\u001b[39m\u001b[39m\"\u001b[39m: \u001b[39mstr\u001b[39m(data),\n\u001b[1;32m    991\u001b[0m     \u001b[39m\"\u001b[39m\u001b[39mdata_split_mode\u001b[39m\u001b[39m\"\u001b[39m: \u001b[39mint\u001b[39m(data_split_mode),\n\u001b[1;32m    992\u001b[0m }\n\u001b[1;32m    993\u001b[0m config \u001b[39m=\u001b[39m \u001b[39mbytes\u001b[39m(json\u001b[39m.\u001b[39mdumps(args), \u001b[39m\"\u001b[39m\u001b[39mutf-8\u001b[39m\u001b[39m\"\u001b[39m)\n\u001b[0;32m--> 994\u001b[0m _check_call(_LIB\u001b[39m.\u001b[39;49mXGDMatrixCreateFromURI(config, ctypes\u001b[39m.\u001b[39;49mbyref(handle)))\n\u001b[1;32m    995\u001b[0m \u001b[39mreturn\u001b[39;00m handle, feature_names, feature_types\n",
      "File \u001b[0;32m/opt/mamba/lib/python3.11/site-packages/xgboost/core.py:282\u001b[0m, in \u001b[0;36m_check_call\u001b[0;34m(ret)\u001b[0m\n\u001b[1;32m    271\u001b[0m \u001b[39m\u001b[39m\u001b[39m\"\"\"Check the return value of C API call\u001b[39;00m\n\u001b[1;32m    272\u001b[0m \n\u001b[1;32m    273\u001b[0m \u001b[39mThis function will raise exception when error occurs.\u001b[39;00m\n\u001b[0;32m   (...)\u001b[0m\n\u001b[1;32m    279\u001b[0m \u001b[39m    return value from API calls\u001b[39;00m\n\u001b[1;32m    280\u001b[0m \u001b[39m\"\"\"\u001b[39;00m\n\u001b[1;32m    281\u001b[0m \u001b[39mif\u001b[39;00m ret \u001b[39m!=\u001b[39m \u001b[39m0\u001b[39m:\n\u001b[0;32m--> 282\u001b[0m     \u001b[39mraise\u001b[39;00m XGBoostError(py_str(_LIB\u001b[39m.\u001b[39mXGBGetLastError()))\n",
      "\u001b[0;31mXGBoostError\u001b[0m: [18:00:41] /home/conda/feedstock_root/build_artifacts/xgboost-split_1712072639327/work/src/data/file_iterator.cc:24: Check failed: name_args.size() == 2 (1 vs. 2) : URI parameter `format` is required for loading text data: filename?format=csv\nStack trace:\n  [bt] (0) /opt/mamba/lib/libxgboost.so(dmlc::LogMessageFatal::~LogMessageFatal()+0x6e) [0x7fb98b8582ee]\n  [bt] (1) /opt/mamba/lib/libxgboost.so(xgboost::data::ValidateFileFormat(std::__cxx11::basic_string<char, std::char_traits<char>, std::allocator<char> > const&)+0x971) [0x7fb98ba7db11]\n  [bt] (2) /opt/mamba/lib/libxgboost.so(xgboost::DMatrix::Load(std::__cxx11::basic_string<char, std::char_traits<char>, std::allocator<char> > const&, bool, xgboost::DataSplitMode)+0x821) [0x7fb98ba32ba1]\n  [bt] (3) /opt/mamba/lib/libxgboost.so(XGDMatrixCreateFromURI+0xf1) [0x7fb98b8408a1]\n  [bt] (4) /opt/mamba/lib/python3.11/lib-dynload/../../libffi.so.8(+0x6a4a) [0x7fbc281cfa4a]\n  [bt] (5) /opt/mamba/lib/python3.11/lib-dynload/../../libffi.so.8(+0x5fea) [0x7fbc281cefea]\n  [bt] (6) /opt/mamba/lib/python3.11/lib-dynload/_ctypes.cpython-311-x86_64-linux-gnu.so(+0x12529) [0x7fbc281e7529]\n  [bt] (7) /opt/mamba/lib/python3.11/lib-dynload/_ctypes.cpython-311-x86_64-linux-gnu.so(+0x8862) [0x7fbc281dd862]\n  [bt] (8) /opt/mamba/bin/python(_PyObject_MakeTpCall+0x253) [0x56209aababd3]\n\n"
     ]
    }
   ],
   "source": [
    "print(clf.best_params_)\n",
    "clf.predict(\"Hello it is the IA\")"
   ]
  },
  {
   "cell_type": "code",
   "execution_count": 47,
   "metadata": {},
   "outputs": [
    {
     "name": "stdout",
     "output_type": "stream",
     "text": [
      "Question : Who is the strongest between Itachi and Jiraya?\n"
     ]
    },
    {
     "ename": "XGBoostError",
     "evalue": "[18:00:47] /home/conda/feedstock_root/build_artifacts/xgboost-split_1712072639327/work/src/c_api/../data/array_interface.h:492: Unicode-4 is not supported.\nStack trace:\n  [bt] (0) /opt/mamba/lib/libxgboost.so(dmlc::LogMessageFatal::~LogMessageFatal()+0x6e) [0x7fb98b8582ee]\n  [bt] (1) /opt/mamba/lib/libxgboost.so(xgboost::ArrayInterface<2, false>::Initialize(std::map<std::__cxx11::basic_string<char, std::char_traits<char>, std::allocator<char> >, xgboost::Json, std::less<void>, std::allocator<std::pair<std::__cxx11::basic_string<char, std::char_traits<char>, std::allocator<char> > const, xgboost::Json> > > const&)+0x1f6) [0x7fb98b86de26]\n  [bt] (2) /opt/mamba/lib/libxgboost.so(xgboost::data::DMatrixProxy::SetArrayData(xgboost::StringView)+0x117) [0x7fb98bacd267]\n  [bt] (3) /opt/mamba/lib/libxgboost.so(XGBoosterPredictFromDense+0x2bb) [0x7fb98b8446db]\n  [bt] (4) /opt/mamba/lib/python3.11/lib-dynload/../../libffi.so.8(+0x6a4a) [0x7fbc281cfa4a]\n  [bt] (5) /opt/mamba/lib/python3.11/lib-dynload/../../libffi.so.8(+0x5fea) [0x7fbc281cefea]\n  [bt] (6) /opt/mamba/lib/python3.11/lib-dynload/_ctypes.cpython-311-x86_64-linux-gnu.so(+0x12529) [0x7fbc281e7529]\n  [bt] (7) /opt/mamba/lib/python3.11/lib-dynload/_ctypes.cpython-311-x86_64-linux-gnu.so(+0x8862) [0x7fbc281dd862]\n  [bt] (8) /opt/mamba/bin/python(_PyObject_MakeTpCall+0x253) [0x56209aababd3]\n\n",
     "output_type": "error",
     "traceback": [
      "\u001b[0;31m---------------------------------------------------------------------------\u001b[0m",
      "\u001b[0;31mXGBoostError\u001b[0m                              Traceback (most recent call last)",
      "\u001b[1;32m/home/onyxia/work/Hackathon-IAvsAI/XGB.ipynb Cell 8\u001b[0m line \u001b[0;36m2\n\u001b[1;32m     <a href='vscode-notebook-cell://user-pdht-242065-0.user.lab.sspcloud.fr/home/onyxia/work/Hackathon-IAvsAI/XGB.ipynb#X20sdnNjb2RlLXJlbW90ZQ%3D%3D?line=20'>21</a>\u001b[0m         \u001b[39mprint\u001b[39m(\u001b[39mf\u001b[39m\u001b[39m\"\u001b[39m\u001b[39mHuman Answer: [\u001b[39m\u001b[39m{\u001b[39;00mhuman[:\u001b[39m25\u001b[39m]\u001b[39m}\u001b[39;00m\u001b[39m] the model thinks it was written by a \u001b[39m\u001b[39m{\u001b[39;00mhuman_or_gpt(model\u001b[39m.\u001b[39mpredict([human]))\u001b[39m}\u001b[39;00m\u001b[39m \u001b[39m\u001b[39m\"\u001b[39m)\n\u001b[1;32m     <a href='vscode-notebook-cell://user-pdht-242065-0.user.lab.sspcloud.fr/home/onyxia/work/Hackathon-IAvsAI/XGB.ipynb#X20sdnNjb2RlLXJlbW90ZQ%3D%3D?line=21'>22</a>\u001b[0m         \u001b[39mprint\u001b[39m(\u001b[39mf\u001b[39m\u001b[39m\"\u001b[39m\u001b[39mGPT Answer: [\u001b[39m\u001b[39m{\u001b[39;00mgpt[:\u001b[39m25\u001b[39m]\u001b[39m}\u001b[39;00m\u001b[39m] the model thinks it was written by a \u001b[39m\u001b[39m{\u001b[39;00mhuman_or_gpt(model\u001b[39m.\u001b[39mpredict([gpt]))\u001b[39m}\u001b[39;00m\u001b[39m \u001b[39m\u001b[39m\"\u001b[39m)\n\u001b[0;32m---> <a href='vscode-notebook-cell://user-pdht-242065-0.user.lab.sspcloud.fr/home/onyxia/work/Hackathon-IAvsAI/XGB.ipynb#X20sdnNjb2RlLXJlbW90ZQ%3D%3D?line=23'>24</a>\u001b[0m testsuite(clf, test_answers)\n",
      "\u001b[1;32m/home/onyxia/work/Hackathon-IAvsAI/XGB.ipynb Cell 8\u001b[0m line \u001b[0;36m2\n\u001b[1;32m     <a href='vscode-notebook-cell://user-pdht-242065-0.user.lab.sspcloud.fr/home/onyxia/work/Hackathon-IAvsAI/XGB.ipynb#X20sdnNjb2RlLXJlbW90ZQ%3D%3D?line=18'>19</a>\u001b[0m (qst, human, gpt) \u001b[39m=\u001b[39m test\n\u001b[1;32m     <a href='vscode-notebook-cell://user-pdht-242065-0.user.lab.sspcloud.fr/home/onyxia/work/Hackathon-IAvsAI/XGB.ipynb#X20sdnNjb2RlLXJlbW90ZQ%3D%3D?line=19'>20</a>\u001b[0m \u001b[39mprint\u001b[39m(\u001b[39mf\u001b[39m\u001b[39m\"\u001b[39m\u001b[39mQuestion : \u001b[39m\u001b[39m{\u001b[39;00mqst\u001b[39m}\u001b[39;00m\u001b[39m\"\u001b[39m)\n\u001b[0;32m---> <a href='vscode-notebook-cell://user-pdht-242065-0.user.lab.sspcloud.fr/home/onyxia/work/Hackathon-IAvsAI/XGB.ipynb#X20sdnNjb2RlLXJlbW90ZQ%3D%3D?line=20'>21</a>\u001b[0m \u001b[39mprint\u001b[39m(\u001b[39mf\u001b[39m\u001b[39m\"\u001b[39m\u001b[39mHuman Answer: [\u001b[39m\u001b[39m{\u001b[39;00mhuman[:\u001b[39m25\u001b[39m]\u001b[39m}\u001b[39;00m\u001b[39m] the model thinks it was written by a \u001b[39m\u001b[39m{\u001b[39;00mhuman_or_gpt(model\u001b[39m.\u001b[39;49mpredict([human]))\u001b[39m}\u001b[39;00m\u001b[39m \u001b[39m\u001b[39m\"\u001b[39m)\n\u001b[1;32m     <a href='vscode-notebook-cell://user-pdht-242065-0.user.lab.sspcloud.fr/home/onyxia/work/Hackathon-IAvsAI/XGB.ipynb#X20sdnNjb2RlLXJlbW90ZQ%3D%3D?line=21'>22</a>\u001b[0m \u001b[39mprint\u001b[39m(\u001b[39mf\u001b[39m\u001b[39m\"\u001b[39m\u001b[39mGPT Answer: [\u001b[39m\u001b[39m{\u001b[39;00mgpt[:\u001b[39m25\u001b[39m]\u001b[39m}\u001b[39;00m\u001b[39m] the model thinks it was written by a \u001b[39m\u001b[39m{\u001b[39;00mhuman_or_gpt(model\u001b[39m.\u001b[39mpredict([gpt]))\u001b[39m}\u001b[39;00m\u001b[39m \u001b[39m\u001b[39m\"\u001b[39m)\n",
      "File \u001b[0;32m/opt/mamba/lib/python3.11/site-packages/sklearn/model_selection/_search.py:546\u001b[0m, in \u001b[0;36mBaseSearchCV.predict\u001b[0;34m(self, X)\u001b[0m\n\u001b[1;32m    528\u001b[0m \u001b[39m\u001b[39m\u001b[39m\"\"\"Call predict on the estimator with the best found parameters.\u001b[39;00m\n\u001b[1;32m    529\u001b[0m \n\u001b[1;32m    530\u001b[0m \u001b[39mOnly available if ``refit=True`` and the underlying estimator supports\u001b[39;00m\n\u001b[0;32m   (...)\u001b[0m\n\u001b[1;32m    543\u001b[0m \u001b[39m    the best found parameters.\u001b[39;00m\n\u001b[1;32m    544\u001b[0m \u001b[39m\"\"\"\u001b[39;00m\n\u001b[1;32m    545\u001b[0m check_is_fitted(\u001b[39mself\u001b[39m)\n\u001b[0;32m--> 546\u001b[0m \u001b[39mreturn\u001b[39;00m \u001b[39mself\u001b[39;49m\u001b[39m.\u001b[39;49mbest_estimator_\u001b[39m.\u001b[39;49mpredict(X)\n",
      "File \u001b[0;32m/opt/mamba/lib/python3.11/site-packages/xgboost/sklearn.py:1553\u001b[0m, in \u001b[0;36mXGBClassifier.predict\u001b[0;34m(self, X, output_margin, validate_features, base_margin, iteration_range)\u001b[0m\n\u001b[1;32m   1544\u001b[0m \u001b[39mdef\u001b[39;00m \u001b[39mpredict\u001b[39m(\n\u001b[1;32m   1545\u001b[0m     \u001b[39mself\u001b[39m,\n\u001b[1;32m   1546\u001b[0m     X: ArrayLike,\n\u001b[0;32m   (...)\u001b[0m\n\u001b[1;32m   1550\u001b[0m     iteration_range: Optional[Tuple[\u001b[39mint\u001b[39m, \u001b[39mint\u001b[39m]] \u001b[39m=\u001b[39m \u001b[39mNone\u001b[39;00m,\n\u001b[1;32m   1551\u001b[0m ) \u001b[39m-\u001b[39m\u001b[39m>\u001b[39m ArrayLike:\n\u001b[1;32m   1552\u001b[0m     \u001b[39mwith\u001b[39;00m config_context(verbosity\u001b[39m=\u001b[39m\u001b[39mself\u001b[39m\u001b[39m.\u001b[39mverbosity):\n\u001b[0;32m-> 1553\u001b[0m         class_probs \u001b[39m=\u001b[39m \u001b[39msuper\u001b[39;49m()\u001b[39m.\u001b[39;49mpredict(\n\u001b[1;32m   1554\u001b[0m             X\u001b[39m=\u001b[39;49mX,\n\u001b[1;32m   1555\u001b[0m             output_margin\u001b[39m=\u001b[39;49moutput_margin,\n\u001b[1;32m   1556\u001b[0m             validate_features\u001b[39m=\u001b[39;49mvalidate_features,\n\u001b[1;32m   1557\u001b[0m             base_margin\u001b[39m=\u001b[39;49mbase_margin,\n\u001b[1;32m   1558\u001b[0m             iteration_range\u001b[39m=\u001b[39;49miteration_range,\n\u001b[1;32m   1559\u001b[0m         )\n\u001b[1;32m   1560\u001b[0m         \u001b[39mif\u001b[39;00m output_margin:\n\u001b[1;32m   1561\u001b[0m             \u001b[39m# If output_margin is active, simply return the scores\u001b[39;00m\n\u001b[1;32m   1562\u001b[0m             \u001b[39mreturn\u001b[39;00m class_probs\n",
      "File \u001b[0;32m/opt/mamba/lib/python3.11/site-packages/xgboost/sklearn.py:1168\u001b[0m, in \u001b[0;36mXGBModel.predict\u001b[0;34m(self, X, output_margin, validate_features, base_margin, iteration_range)\u001b[0m\n\u001b[1;32m   1166\u001b[0m \u001b[39mif\u001b[39;00m \u001b[39mself\u001b[39m\u001b[39m.\u001b[39m_can_use_inplace_predict():\n\u001b[1;32m   1167\u001b[0m     \u001b[39mtry\u001b[39;00m:\n\u001b[0;32m-> 1168\u001b[0m         predts \u001b[39m=\u001b[39m \u001b[39mself\u001b[39;49m\u001b[39m.\u001b[39;49mget_booster()\u001b[39m.\u001b[39;49minplace_predict(\n\u001b[1;32m   1169\u001b[0m             data\u001b[39m=\u001b[39;49mX,\n\u001b[1;32m   1170\u001b[0m             iteration_range\u001b[39m=\u001b[39;49miteration_range,\n\u001b[1;32m   1171\u001b[0m             predict_type\u001b[39m=\u001b[39;49m\u001b[39m\"\u001b[39;49m\u001b[39mmargin\u001b[39;49m\u001b[39m\"\u001b[39;49m \u001b[39mif\u001b[39;49;00m output_margin \u001b[39melse\u001b[39;49;00m \u001b[39m\"\u001b[39;49m\u001b[39mvalue\u001b[39;49m\u001b[39m\"\u001b[39;49m,\n\u001b[1;32m   1172\u001b[0m             missing\u001b[39m=\u001b[39;49m\u001b[39mself\u001b[39;49m\u001b[39m.\u001b[39;49mmissing,\n\u001b[1;32m   1173\u001b[0m             base_margin\u001b[39m=\u001b[39;49mbase_margin,\n\u001b[1;32m   1174\u001b[0m             validate_features\u001b[39m=\u001b[39;49mvalidate_features,\n\u001b[1;32m   1175\u001b[0m         )\n\u001b[1;32m   1176\u001b[0m         \u001b[39mif\u001b[39;00m _is_cupy_array(predts):\n\u001b[1;32m   1177\u001b[0m             \u001b[39mimport\u001b[39;00m \u001b[39mcupy\u001b[39;00m  \u001b[39m# pylint: disable=import-error\u001b[39;00m\n",
      "File \u001b[0;32m/opt/mamba/lib/python3.11/site-packages/xgboost/core.py:2437\u001b[0m, in \u001b[0;36mBooster.inplace_predict\u001b[0;34m(self, data, iteration_range, predict_type, missing, validate_features, base_margin, strict_shape)\u001b[0m\n\u001b[1;32m   2434\u001b[0m     \u001b[39mfrom\u001b[39;00m \u001b[39m.\u001b[39;00m\u001b[39mdata\u001b[39;00m \u001b[39mimport\u001b[39;00m _ensure_np_dtype\n\u001b[1;32m   2436\u001b[0m     data, _ \u001b[39m=\u001b[39m _ensure_np_dtype(data, data\u001b[39m.\u001b[39mdtype)\n\u001b[0;32m-> 2437\u001b[0m     _check_call(\n\u001b[1;32m   2438\u001b[0m         _LIB\u001b[39m.\u001b[39;49mXGBoosterPredictFromDense(\n\u001b[1;32m   2439\u001b[0m             \u001b[39mself\u001b[39;49m\u001b[39m.\u001b[39;49mhandle,\n\u001b[1;32m   2440\u001b[0m             _array_interface(data),\n\u001b[1;32m   2441\u001b[0m             args,\n\u001b[1;32m   2442\u001b[0m             p_handle,\n\u001b[1;32m   2443\u001b[0m             ctypes\u001b[39m.\u001b[39;49mbyref(shape),\n\u001b[1;32m   2444\u001b[0m             ctypes\u001b[39m.\u001b[39;49mbyref(dims),\n\u001b[1;32m   2445\u001b[0m             ctypes\u001b[39m.\u001b[39;49mbyref(preds),\n\u001b[1;32m   2446\u001b[0m         )\n\u001b[1;32m   2447\u001b[0m     )\n\u001b[1;32m   2448\u001b[0m     \u001b[39mreturn\u001b[39;00m _prediction_output(shape, dims, preds, \u001b[39mFalse\u001b[39;00m)\n\u001b[1;32m   2449\u001b[0m \u001b[39mif\u001b[39;00m \u001b[39misinstance\u001b[39m(data, scipy\u001b[39m.\u001b[39msparse\u001b[39m.\u001b[39mcsr_matrix):\n",
      "File \u001b[0;32m/opt/mamba/lib/python3.11/site-packages/xgboost/core.py:282\u001b[0m, in \u001b[0;36m_check_call\u001b[0;34m(ret)\u001b[0m\n\u001b[1;32m    271\u001b[0m \u001b[39m\u001b[39m\u001b[39m\"\"\"Check the return value of C API call\u001b[39;00m\n\u001b[1;32m    272\u001b[0m \n\u001b[1;32m    273\u001b[0m \u001b[39mThis function will raise exception when error occurs.\u001b[39;00m\n\u001b[0;32m   (...)\u001b[0m\n\u001b[1;32m    279\u001b[0m \u001b[39m    return value from API calls\u001b[39;00m\n\u001b[1;32m    280\u001b[0m \u001b[39m\"\"\"\u001b[39;00m\n\u001b[1;32m    281\u001b[0m \u001b[39mif\u001b[39;00m ret \u001b[39m!=\u001b[39m \u001b[39m0\u001b[39m:\n\u001b[0;32m--> 282\u001b[0m     \u001b[39mraise\u001b[39;00m XGBoostError(py_str(_LIB\u001b[39m.\u001b[39mXGBGetLastError()))\n",
      "\u001b[0;31mXGBoostError\u001b[0m: [18:00:47] /home/conda/feedstock_root/build_artifacts/xgboost-split_1712072639327/work/src/c_api/../data/array_interface.h:492: Unicode-4 is not supported.\nStack trace:\n  [bt] (0) /opt/mamba/lib/libxgboost.so(dmlc::LogMessageFatal::~LogMessageFatal()+0x6e) [0x7fb98b8582ee]\n  [bt] (1) /opt/mamba/lib/libxgboost.so(xgboost::ArrayInterface<2, false>::Initialize(std::map<std::__cxx11::basic_string<char, std::char_traits<char>, std::allocator<char> >, xgboost::Json, std::less<void>, std::allocator<std::pair<std::__cxx11::basic_string<char, std::char_traits<char>, std::allocator<char> > const, xgboost::Json> > > const&)+0x1f6) [0x7fb98b86de26]\n  [bt] (2) /opt/mamba/lib/libxgboost.so(xgboost::data::DMatrixProxy::SetArrayData(xgboost::StringView)+0x117) [0x7fb98bacd267]\n  [bt] (3) /opt/mamba/lib/libxgboost.so(XGBoosterPredictFromDense+0x2bb) [0x7fb98b8446db]\n  [bt] (4) /opt/mamba/lib/python3.11/lib-dynload/../../libffi.so.8(+0x6a4a) [0x7fbc281cfa4a]\n  [bt] (5) /opt/mamba/lib/python3.11/lib-dynload/../../libffi.so.8(+0x5fea) [0x7fbc281cefea]\n  [bt] (6) /opt/mamba/lib/python3.11/lib-dynload/_ctypes.cpython-311-x86_64-linux-gnu.so(+0x12529) [0x7fbc281e7529]\n  [bt] (7) /opt/mamba/lib/python3.11/lib-dynload/_ctypes.cpython-311-x86_64-linux-gnu.so(+0x8862) [0x7fbc281dd862]\n  [bt] (8) /opt/mamba/bin/python(_PyObject_MakeTpCall+0x253) [0x56209aababd3]\n\n"
     ]
    }
   ],
   "source": [
    "test_answers = [\n",
    "\n",
    "    ('Who is the strongest between Itachi and Jiraya?', \n",
    "    'Itachi is stronger by far an I can prove it ', \n",
    "    \"\"\"It's hard to determine conclusively who is stronger between Itachi and Jiraiya.\n",
    "     Both have unique strengths and weaknesses. Itachi excels in Sharingan and genjutsu mastery,\n",
    "      while Jiraiya is a proficient user of ninjutsu and senjutsu. Their relative power depends on various factors, \n",
    "      including their respective skills, combat strategies, and physical/mental condition during battle.\"\"\"\n",
    "    )\n",
    "]\n",
    "\n",
    "def human_or_gpt(n):\n",
    "    label = \"HUMAN\" if n == 1 else 'GPT'\n",
    "    return Fore.BLUE + label + Style.RESET_ALL\n",
    "\n",
    "\n",
    "def testsuite(model, tests):\n",
    "    for test in tests:\n",
    "        (qst, human, gpt) = test\n",
    "        print(f\"Question : {qst}\")\n",
    "        print(f\"Human Answer: [{human[:25]}] the model thinks it was written by a {human_or_gpt(model.predict([human]))} \")\n",
    "        print(f\"GPT Answer: [{gpt[:25]}] the model thinks it was written by a {human_or_gpt(model.predict([gpt]))} \")\n",
    "\n",
    "testsuite(clf, test_answers)"
   ]
  }
 ],
 "metadata": {
  "kernelspec": {
   "display_name": "base",
   "language": "python",
   "name": "python3"
  },
  "language_info": {
   "codemirror_mode": {
    "name": "ipython",
    "version": 3
   },
   "file_extension": ".py",
   "mimetype": "text/x-python",
   "name": "python",
   "nbconvert_exporter": "python",
   "pygments_lexer": "ipython3",
   "version": "3.11.6"
  }
 },
 "nbformat": 4,
 "nbformat_minor": 2
}
