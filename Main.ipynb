{
 "cells": [
  {
   "cell_type": "code",
   "execution_count": 44,
   "metadata": {},
   "outputs": [],
   "source": [
    "import json\n",
    "import time\n",
    "import pandas as pd\n",
    "import matplotlib.pyplot as plt\n",
    "\n",
    "from glob import glob\n",
    "\n",
    "from sklearn.model_selection import train_test_split\n",
    "from sklearn.pipeline import make_pipeline\n",
    "from sklearn.feature_extraction.text import TfidfVectorizer\n",
    "from sklearn.metrics import ConfusionMatrixDisplay, confusion_matrix, accuracy_score, f1_score\n",
    "from sklearn.linear_model import LogisticRegression"
   ]
  },
  {
   "cell_type": "code",
   "execution_count": 13,
   "metadata": {},
   "outputs": [],
   "source": [
    "def json_to_dataframe(file_path):\n",
    "    return pd.read_json(file_path, lines=True)\n",
    "\n",
    "files = glob(\"data/*.jsonl\")\n",
    "dfs = [json_to_dataframe(file) for file in files]\n",
    "df = pd.concat(dfs, ignore_index=True)"
   ]
  },
  {
   "cell_type": "markdown",
   "metadata": {},
   "source": [
    "#  Preprocessing"
   ]
  },
  {
   "cell_type": "code",
   "execution_count": 14,
   "metadata": {},
   "outputs": [
    {
     "data": {
      "text/html": [
       "<div>\n",
       "<style scoped>\n",
       "    .dataframe tbody tr th:only-of-type {\n",
       "        vertical-align: middle;\n",
       "    }\n",
       "\n",
       "    .dataframe tbody tr th {\n",
       "        vertical-align: top;\n",
       "    }\n",
       "\n",
       "    .dataframe thead th {\n",
       "        text-align: right;\n",
       "    }\n",
       "</style>\n",
       "<table border=\"1\" class=\"dataframe\">\n",
       "  <thead>\n",
       "    <tr style=\"text-align: right;\">\n",
       "      <th></th>\n",
       "      <th>questions</th>\n",
       "      <th>answers</th>\n",
       "      <th>is_human</th>\n",
       "    </tr>\n",
       "  </thead>\n",
       "  <tbody>\n",
       "    <tr>\n",
       "      <th>0</th>\n",
       "      <td>what composer used sound mass</td>\n",
       "      <td>Composers and works include Barbara Kolb , Pau...</td>\n",
       "      <td>1</td>\n",
       "    </tr>\n",
       "    <tr>\n",
       "      <th>1</th>\n",
       "      <td>where did the persian war take place</td>\n",
       "      <td>The Greco-Persian Wars (also often called the ...</td>\n",
       "      <td>1</td>\n",
       "    </tr>\n",
       "    <tr>\n",
       "      <th>2</th>\n",
       "      <td>what are add ons</td>\n",
       "      <td>Plug-in (computing) , a piece of software whic...</td>\n",
       "      <td>1</td>\n",
       "    </tr>\n",
       "    <tr>\n",
       "      <th>3</th>\n",
       "      <td>how does a dredge work?</td>\n",
       "      <td>Dredging is an excavation activity or operatio...</td>\n",
       "      <td>1</td>\n",
       "    </tr>\n",
       "    <tr>\n",
       "      <th>4</th>\n",
       "      <td>what classes are considered humanities</td>\n",
       "      <td>The humanities are academic disciplines that s...</td>\n",
       "      <td>1</td>\n",
       "    </tr>\n",
       "  </tbody>\n",
       "</table>\n",
       "</div>"
      ],
      "text/plain": [
       "                                questions  \\\n",
       "0           what composer used sound mass   \n",
       "1    where did the persian war take place   \n",
       "2                        what are add ons   \n",
       "3                 how does a dredge work?   \n",
       "4  what classes are considered humanities   \n",
       "\n",
       "                                             answers  is_human  \n",
       "0  Composers and works include Barbara Kolb , Pau...         1  \n",
       "1  The Greco-Persian Wars (also often called the ...         1  \n",
       "2  Plug-in (computing) , a piece of software whic...         1  \n",
       "3  Dredging is an excavation activity or operatio...         1  \n",
       "4  The humanities are academic disciplines that s...         1  "
      ]
     },
     "metadata": {},
     "output_type": "display_data"
    },
    {
     "data": {
      "text/html": [
       "<div>\n",
       "<style scoped>\n",
       "    .dataframe tbody tr th:only-of-type {\n",
       "        vertical-align: middle;\n",
       "    }\n",
       "\n",
       "    .dataframe tbody tr th {\n",
       "        vertical-align: top;\n",
       "    }\n",
       "\n",
       "    .dataframe thead th {\n",
       "        text-align: right;\n",
       "    }\n",
       "</style>\n",
       "<table border=\"1\" class=\"dataframe\">\n",
       "  <thead>\n",
       "    <tr style=\"text-align: right;\">\n",
       "      <th></th>\n",
       "      <th>answers</th>\n",
       "      <th>is_human</th>\n",
       "    </tr>\n",
       "  </thead>\n",
       "  <tbody>\n",
       "    <tr>\n",
       "      <th>0</th>\n",
       "      <td>Little disclaimer: this deals with US laws and...</td>\n",
       "      <td>1</td>\n",
       "    </tr>\n",
       "    <tr>\n",
       "      <th>1</th>\n",
       "      <td>Read: Mentally Retarded Downs. See, we've got ...</td>\n",
       "      <td>1</td>\n",
       "    </tr>\n",
       "    <tr>\n",
       "      <th>2</th>\n",
       "      <td>If any of you frequent rbadhistory, there is a...</td>\n",
       "      <td>1</td>\n",
       "    </tr>\n",
       "    <tr>\n",
       "      <th>3</th>\n",
       "      <td>I believe in a flat tax system, where everyone...</td>\n",
       "      <td>1</td>\n",
       "    </tr>\n",
       "    <tr>\n",
       "      <th>4</th>\n",
       "      <td>Edit: Ok guy's, my views have been changed on ...</td>\n",
       "      <td>1</td>\n",
       "    </tr>\n",
       "  </tbody>\n",
       "</table>\n",
       "</div>"
      ],
      "text/plain": [
       "                                             answers  is_human\n",
       "0  Little disclaimer: this deals with US laws and...         1\n",
       "1  Read: Mentally Retarded Downs. See, we've got ...         1\n",
       "2  If any of you frequent rbadhistory, there is a...         1\n",
       "3  I believe in a flat tax system, where everyone...         1\n",
       "4  Edit: Ok guy's, my views have been changed on ...         1"
      ]
     },
     "execution_count": 14,
     "metadata": {},
     "output_type": "execute_result"
    }
   ],
   "source": [
    "# Creating the answers_df\n",
    "human_df = pd.DataFrame({'questions': df['question'], 'answers': df['human_answers'], 'is_human': 1 })\n",
    "gpt_df = pd.DataFrame({'questions': df['question'], 'answers': df['chatgpt_answers'], 'is_human': 0})\n",
    "answers_df = pd.concat([human_df, gpt_df], axis=0, ignore_index=True)\n",
    "\n",
    "# Cleaning\n",
    "answers_df = answers_df.explode('answers', ignore_index=True)\n",
    "answers_df = answers_df.dropna(subset=['answers'], ignore_index=True)\n",
    "answers_df = answers_df[~answers_df['answers'].str.endswith('There was an error generating a response')]\n",
    "answers_df = answers_df[~answers_df['answers'].str.endswith('Log out')]\n",
    "deprecated_df = answers_df[answers_df['answers'].str.len() != 0]\n",
    "\n",
    "# Importing other_df\n",
    "csv = pd.read_csv(\"data/hack_train.csv\")\n",
    "csvFull = csv.rename(columns={'text': 'answers', \"label\" : \"is_human\"})\n",
    "newly_df = csvFull.drop(columns=\"src\")\n",
    "\n",
    "display(deprecated_df.head())\n",
    "newly_df.head()"
   ]
  },
  {
   "cell_type": "code",
   "execution_count": 15,
   "metadata": {},
   "outputs": [],
   "source": [
    "X = newly_df['answers']\n",
    "y = newly_df['is_human']\n",
    "\n",
    "X_train, X_test, y_train, y_test = train_test_split(X, y, test_size=0.2, random_state=42)  "
   ]
  },
  {
   "cell_type": "markdown",
   "metadata": {},
   "source": [
    "# Logistic Regression"
   ]
  },
  {
   "cell_type": "code",
   "execution_count": 23,
   "metadata": {},
   "outputs": [],
   "source": [
    "def evaluate_model(model, X_test, y_test):\n",
    "    y_pred = model.predict(X_test)\n",
    "    print(\"Accuracy: \", accuracy_score(y_test, y_pred))\n",
    "\n",
    "    print(\"F1 score: \", f1_score(y_test, y_pred))\n",
    "    cm = confusion_matrix(y_test, y_pred, labels=model.classes_)\n",
    "    disp = ConfusionMatrixDisplay(confusion_matrix=cm, display_labels=model.classes_)\n",
    "    disp.plot()\n",
    "    plt.show()"
   ]
  },
  {
   "cell_type": "code",
   "execution_count": 46,
   "metadata": {},
   "outputs": [
    {
     "name": "stdout",
     "output_type": "stream",
     "text": [
      "Accuracy:  0.9342661034846885\n",
      "F1 score:  0.935575679172057\n"
     ]
    },
    {
     "data": {
      "image/png": "[encoded data removed]",
      "text/plain": [
       "<Figure size 640x480 with 2 Axes>"
      ]
     },
     "metadata": {},
     "output_type": "display_data"
    }
   ],
   "source": [
    "lr_classifier = make_pipeline(TfidfVectorizer(ngram_range=(2,2)), LogisticRegression(C=10,random_state=42, solver='newton-cg', max_iter=10000))\n",
    "lr_classifier.fit(X_train.values, y_train)\n",
    "evaluate_model(lr_classifier, X_test, y_test)"
   ]
  },
  {
   "cell_type": "markdown",
   "metadata": {},
   "source": [
    "# Analyse des performances"
   ]
  },
  {
   "cell_type": "code",
   "execution_count": 20,
   "metadata": {},
   "outputs": [
    {
     "name": "stdout",
     "output_type": "stream",
     "text": [
      "Nombre de tokens: 636\n"
     ]
    }
   ],
   "source": [
    "\n",
    "crash_test = \"\"\"In the vast expanse of the universe, billions of stars twinkle in the darkness of space. Galaxies spiral and collide, nebulae glow with ethereal light, and black holes devour everything in their path. It is a place of wonder and mystery, where the laws of physics are pushed to their limits and the secrets of the cosmos remain elusive.\n",
    "On a small blue planet orbiting an average star, life flourishes in all its diversity. From the depths of the oceans to the heights of the mountains, countless species of plants and animals thrive in a delicate balance. Humans, with their intelligence and ingenuity, have built civilizations, explored the world, and reached for the stars.\n",
    "But even as humanity has made great strides in science and technology, there are still many unanswered questions about the universe. What lies beyond the edge of the observable universe? Are we alone in the cosmos, or are there other intelligent civilizations out there? And what is the ultimate fate of the universe itself?\n",
    "As we ponder these questions, we are reminded of our place in the cosmos - small and insignificant, yet capable of great things. We are explorers, adventurers, seekers of knowledge and understanding. And as we gaze up at the stars, we are filled with a sense of wonder and awe at the vastness and beauty of the universe.\n",
    "So let us continue to explore, to discover, to dream. For the universe is a place of infinite possibilities, and there is still so much left to learn and to explore. As long as we dare to dream and reach for the stars, the journey will never end. I will start my text again: \n",
    "In the vast expanse of the cosmos, stretching across billions of light-years, galaxies drift like islands in a sea of darkness. Stars twinkle like diamonds, nebulae glow with ethereal light, and black holes lurk in the depths of space. It is a place of unimaginable beauty and mystery, where the laws of physics are pushed to their limits and the secrets of the universe remain tantalizingly out of reach.\n",
    "On a small blue planet nestled in the outskirts of a spiral galaxy, life teems in all its forms. From the towering redwoods of the ancient forests to the microscopic creatures that dwell in the depths of the oceans, the planet is a symphony of life and diversity. Humans, with their curiosity and ambition, have built civilizations, explored the farthest reaches of the globe, and ventured into the unknown depths of space.\n",
    "But even as humanity has made great strides in understanding the world around them, there are still many mysteries left to unravel. What lies beyond the edge of the observable universe? Are there other intelligent beings out there, gazing up at the same stars and wondering about their place in the cosmos? And what is the ultimate fate of the universe itself?\n",
    "As we ponder these questions, we are reminded of our own insignificance in the grand scheme of things. We are but a speck of dust in the vastness of the cosmos, a fleeting moment in the endless march of time. And yet, in our brief existence, we have achieved so much - we have explored the farthest reaches of space, unlocked the secrets of the atom, and harnessed the power of the stars themselves.\n",
    "So let us continue to dream, to explore, to reach for the stars. For the universe is a place of infinite possibilities, and there is still so much left to discover. As long as there are questions left unanswered and mysteries left unsolved, the journey will never truly be over. And so we gaze up at the night sky, filled with wonder and awe at the beauty and majesty of the cosmos, and we dream of what lies beyond.\n",
    "\"\"\"\n",
    "\n",
    "tokens = crash_test.split()\n",
    "print(\"Nombre de tokens:\", len(tokens))"
   ]
  },
  {
   "cell_type": "code",
   "execution_count": 43,
   "metadata": {},
   "outputs": [],
   "source": [
    "def lr_classifier_execution_time():\n",
    "    start_time = time.time()\n",
    "    lr_classifier.predict([crash_test])\n",
    "    print(\"Regression Logistique temps d'exécution:\", time.time() - start_time, \"secondes\")\n",
    "\n",
    "def fnn_classifier_execution_time():\n",
    "    start_time = time.time()\n",
    "    #FUNC\n",
    "    print(\"FNN temps d'exécution:\", time.time() - start_time, \"secondes\")\n",
    "\n",
    "def xgbf_execution_time():\n",
    "    start_time = time.time()\n",
    "    #FUNC\n",
    "    print(\"XGBoost temps d'exécution:\", time.time() - start_time, \"secondes\")\n",
    "\n",
    "def llm_execution_time():\n",
    "    start_time = time.time()\n",
    "    # FUNC\n",
    "    print(\"LLM temps d'exécution:\", time.time() - start_time, \"secondes\")"
   ]
  },
  {
   "cell_type": "code",
   "execution_count": 45,
   "metadata": {},
   "outputs": [
    {
     "name": "stdout",
     "output_type": "stream",
     "text": [
      "Regression Logistique temps d'exécution: 0.03429126739501953 secondes\n"
     ]
    }
   ],
   "source": [
    "lr_classifier_execution_time()"
   ]
  }
 ],
 "metadata": {
  "kernelspec": {
   "display_name": "base",
   "language": "python",
   "name": "python3"
  },
  "language_info": {
   "codemirror_mode": {
    "name": "ipython",
    "version": 3
   },
   "file_extension": ".py",
   "mimetype": "text/x-python",
   "name": "python",
   "nbconvert_exporter": "python",
   "pygments_lexer": "ipython3",
   "version": "3.11.6"
  }
 },
 "nbformat": 4,
 "nbformat_minor": 2
}
