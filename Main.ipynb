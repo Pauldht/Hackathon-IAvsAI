{
 "cells": [
  {
   "cell_type": "code",
   "execution_count": 11,
   "metadata": {},
   "outputs": [],
   "source": [
    "import pandas as pd\n",
    "import json\n",
    "from glob import glob\n",
    "from sklearn.model_selection import train_test_split"
   ]
  },
  {
   "cell_type": "code",
   "execution_count": 18,
   "metadata": {},
   "outputs": [
    {
     "data": {
      "text/plain": [
       "7210"
      ]
     },
     "execution_count": 18,
     "metadata": {},
     "output_type": "execute_result"
    }
   ],
   "source": [
    "def jsonl_to_dataframe(file_path):\n",
    "    \"\"\"Fonction pour lire un fichier JSONL et retourner un DataFrame pandas\"\"\"\n",
    "    data = []\n",
    "    with open(file_path, 'r', encoding='utf-8') as file:\n",
    "        for line in file:\n",
    "            data.append(json.loads(line))\n",
    "    return pd.DataFrame(data)\n",
    "\n",
    "def merge_jsonl_to_dataframe(file_pattern):\n",
    "    \"\"\"Fonction pour fusionner plusieurs fichiers JSONL en un seul DataFrame pandas\"\"\"\n",
    "    # Récupérer la liste des fichiers correspondant au modèle fourni\n",
    "    files = glob(file_pattern)\n",
    "    \n",
    "    \n",
    "    # Lire chaque fichier JSONL et stocker les DataFrames individuels dans une liste\n",
    "    dfs = [jsonl_to_dataframe(file) for file in files]\n",
    "    # Concaténer les DataFrames\n",
    "    merged_df = pd.concat(dfs, ignore_index=True)\n",
    "    \n",
    "    return merged_df\n",
    "\n",
    "# Modèle de chemin vers les fichiers JSONL à fusionner\n",
    "file_pattern = \"data/*.jsonl\"\n",
    "\n",
    "# Appel de la fonction pour fusionner les fichiers JSONL en un DataFrame\n",
    "df = merge_jsonl_to_dataframe(file_pattern)\n",
    "\n",
    "# Afficher le DataFrame fusionné\n",
    "len(df)"
   ]
  },
  {
   "cell_type": "code",
   "execution_count": 19,
   "metadata": {},
   "outputs": [
    {
     "name": "stdout",
     "output_type": "stream",
     "text": [
      "5768\n"
     ]
    },
    {
     "data": {
      "text/plain": [
       "1442"
      ]
     },
     "execution_count": 19,
     "metadata": {},
     "output_type": "execute_result"
    }
   ],
   "source": [
    "train_df, test_df = train_test_split(df, test_size=0.2, random_state=42)\n",
    "print(len(train_df))\n",
    "len(test_df)"
   ]
  }
 ],
 "metadata": {
  "kernelspec": {
   "display_name": "base",
   "language": "python",
   "name": "python3"
  },
  "language_info": {
   "codemirror_mode": {
    "name": "ipython",
    "version": 3
   },
   "file_extension": ".py",
   "mimetype": "text/x-python",
   "name": "python",
   "nbconvert_exporter": "python",
   "pygments_lexer": "ipython3",
   "version": "3.11.6"
  }
 },
 "nbformat": 4,
 "nbformat_minor": 2
}
