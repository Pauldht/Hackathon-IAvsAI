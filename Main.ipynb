{
 "cells": [
  {
   "cell_type": "code",
   "execution_count": 42,
   "metadata": {},
   "outputs": [],
   "source": [
    "import pandas as pd\n",
    "import json\n",
    "from glob import glob\n",
    "from sklearn.model_selection import train_test_split\n",
    "\n",
    "from colorama import init, Fore, Style"
   ]
  },
  {
   "cell_type": "code",
   "execution_count": 43,
   "metadata": {},
   "outputs": [],
   "source": [
    "def jsonl_to_dataframe(file_path):\n",
    "    return pd.read_json(file_path, lines=True)\n",
    "\n",
    "def merge_jsonl_to_dataframe(file_pattern):\n",
    "    \"\"\"Fonction pour fusionner plusieurs fichiers JSONL en un seul DataFrame pandas\"\"\"\n",
    "    # Récupérer la liste des fichiers correspondant au modèle fourni\n",
    "    files = glob(file_pattern)\n",
    "    \n",
    "    \n",
    "    # Lire chaque fichier JSONL et stocker les DataFrames individuels dans une liste\n",
    "    dfs = [jsonl_to_dataframe(file) for file in files]\n",
    "    # Concaténer les DataFrames\n",
    "    merged_df = pd.concat(dfs, ignore_index=True)\n",
    "    \n",
    "    return merged_df\n",
    "\n",
    "# Modèle de chemin vers les fichiers JSONL à fusionner\n",
    "file_pattern = \"data/*.jsonl\"\n",
    "\n",
    "# Appel de la fonction pour fusionner les fichiers JSONL en un DataFrame\n",
    "df = merge_jsonl_to_dataframe(file_pattern)\n"
   ]
  },
  {
   "cell_type": "markdown",
   "metadata": {},
   "source": [
    "#  Setup the dataFrame for the predictive models"
   ]
  },
  {
   "cell_type": "code",
   "execution_count": 55,
   "metadata": {},
   "outputs": [
    {
     "data": {
      "text/html": [
       "<div>\n",
       "<style scoped>\n",
       "    .dataframe tbody tr th:only-of-type {\n",
       "        vertical-align: middle;\n",
       "    }\n",
       "\n",
       "    .dataframe tbody tr th {\n",
       "        vertical-align: top;\n",
       "    }\n",
       "\n",
       "    .dataframe thead th {\n",
       "        text-align: right;\n",
       "    }\n",
       "</style>\n",
       "<table border=\"1\" class=\"dataframe\">\n",
       "  <thead>\n",
       "    <tr style=\"text-align: right;\">\n",
       "      <th></th>\n",
       "      <th>questions</th>\n",
       "      <th>answers</th>\n",
       "      <th>is_human</th>\n",
       "    </tr>\n",
       "  </thead>\n",
       "  <tbody>\n",
       "    <tr>\n",
       "      <th>0</th>\n",
       "      <td>Why is every book I hear about a \" NY Times # ...</td>\n",
       "      <td>Basically there are many categories of \" Best ...</td>\n",
       "      <td>1</td>\n",
       "    </tr>\n",
       "    <tr>\n",
       "      <th>1</th>\n",
       "      <td>Why is every book I hear about a \" NY Times # ...</td>\n",
       "      <td>If you 're hearing about it , it 's because it...</td>\n",
       "      <td>1</td>\n",
       "    </tr>\n",
       "    <tr>\n",
       "      <th>2</th>\n",
       "      <td>Why is every book I hear about a \" NY Times # ...</td>\n",
       "      <td>One reason is lots of catagories . However , h...</td>\n",
       "      <td>1</td>\n",
       "    </tr>\n",
       "    <tr>\n",
       "      <th>3</th>\n",
       "      <td>If salt is so bad for cars , why do we use it ...</td>\n",
       "      <td>salt is good for not dying in car crashes and ...</td>\n",
       "      <td>1</td>\n",
       "    </tr>\n",
       "    <tr>\n",
       "      <th>4</th>\n",
       "      <td>If salt is so bad for cars , why do we use it ...</td>\n",
       "      <td>In Minnesota and North Dakota , they tend to u...</td>\n",
       "      <td>1</td>\n",
       "    </tr>\n",
       "    <tr>\n",
       "      <th>...</th>\n",
       "      <td>...</td>\n",
       "      <td>...</td>\n",
       "      <td>...</td>\n",
       "    </tr>\n",
       "    <tr>\n",
       "      <th>227712</th>\n",
       "      <td>NaN</td>\n",
       "      <td>We consider the recovery of a source term f (x...</td>\n",
       "      <td>1</td>\n",
       "    </tr>\n",
       "    <tr>\n",
       "      <th>227713</th>\n",
       "      <td>NaN</td>\n",
       "      <td>Self-supervised learning (SlfSL), aiming at le...</td>\n",
       "      <td>1</td>\n",
       "    </tr>\n",
       "    <tr>\n",
       "      <th>227714</th>\n",
       "      <td>NaN</td>\n",
       "      <td>Recurrent neural networks (RNNs) have achieved...</td>\n",
       "      <td>1</td>\n",
       "    </tr>\n",
       "    <tr>\n",
       "      <th>227715</th>\n",
       "      <td>NaN</td>\n",
       "      <td>Deep reinforcement learning (DRL) is a booming...</td>\n",
       "      <td>1</td>\n",
       "    </tr>\n",
       "    <tr>\n",
       "      <th>227716</th>\n",
       "      <td>NaN</td>\n",
       "      <td>As part of Smart Cities initiatives, national,...</td>\n",
       "      <td>1</td>\n",
       "    </tr>\n",
       "  </tbody>\n",
       "</table>\n",
       "<p>227717 rows × 3 columns</p>\n",
       "</div>"
      ],
      "text/plain": [
       "                                                questions  \\\n",
       "0       Why is every book I hear about a \" NY Times # ...   \n",
       "1       Why is every book I hear about a \" NY Times # ...   \n",
       "2       Why is every book I hear about a \" NY Times # ...   \n",
       "3       If salt is so bad for cars , why do we use it ...   \n",
       "4       If salt is so bad for cars , why do we use it ...   \n",
       "...                                                   ...   \n",
       "227712                                                NaN   \n",
       "227713                                                NaN   \n",
       "227714                                                NaN   \n",
       "227715                                                NaN   \n",
       "227716                                                NaN   \n",
       "\n",
       "                                                  answers  is_human  \n",
       "0       Basically there are many categories of \" Best ...         1  \n",
       "1       If you 're hearing about it , it 's because it...         1  \n",
       "2       One reason is lots of catagories . However , h...         1  \n",
       "3       salt is good for not dying in car crashes and ...         1  \n",
       "4       In Minnesota and North Dakota , they tend to u...         1  \n",
       "...                                                   ...       ...  \n",
       "227712  We consider the recovery of a source term f (x...         1  \n",
       "227713  Self-supervised learning (SlfSL), aiming at le...         1  \n",
       "227714  Recurrent neural networks (RNNs) have achieved...         1  \n",
       "227715  Deep reinforcement learning (DRL) is a booming...         1  \n",
       "227716  As part of Smart Cities initiatives, national,...         1  \n",
       "\n",
       "[227717 rows x 3 columns]"
      ]
     },
     "execution_count": 55,
     "metadata": {},
     "output_type": "execute_result"
    }
   ],
   "source": [
    "# Creating the answers_df\n",
    "human_df = pd.DataFrame({'questions': df['question'], 'answers': df['human_answers'], 'is_human': 1 })\n",
    "gpt_df = pd.DataFrame({'questions': df['question'], 'answers': df['chatgpt_answers'], 'is_human': 0})\n",
    "answers_df = pd.concat([human_df, gpt_df], axis=0, ignore_index=True)\n",
    "\n",
    "csv = pd.read_csv(\"data/hack_train.csv\")\n",
    "csvFull = csv.rename(columns={'text': 'answers', \"label\" : \"is_human\"})\n",
    "csv = csvFull.drop(columns=\"src\")\n",
    "answers_df = pd.concat([answers_df, csv])\n",
    "# Checking the len\n",
    "answers_df = answers_df.explode('answers', ignore_index=True)\n",
    "answers_df = answers_df.dropna(subset=['answers'], ignore_index=True)\n",
    "\n",
    "answers_df"
   ]
  },
  {
   "cell_type": "code",
   "execution_count": 45,
   "metadata": {},
   "outputs": [
    {
     "ename": "NameError",
     "evalue": "name 'count_spelling_errors' is not defined",
     "output_type": "error",
     "traceback": [
      "\u001b[0;31m---------------------------------------------------------------------------\u001b[0m",
      "\u001b[0;31mNameError\u001b[0m                                 Traceback (most recent call last)",
      "\u001b[1;32m/home/onyxia/work/Hackathon-IAvsAI/Main.ipynb Cell 5\u001b[0m line \u001b[0;36m1\n\u001b[0;32m----> <a href='vscode-notebook-cell://user-05032002-517967-0.user.lab.sspcloud.fr/home/onyxia/work/Hackathon-IAvsAI/Main.ipynb#W4sdnNjb2RlLXJlbW90ZQ%3D%3D?line=0'>1</a>\u001b[0m answers_df[\u001b[39m'\u001b[39m\u001b[39mnb_spelling_mistakes\u001b[39m\u001b[39m'\u001b[39m] \u001b[39m=\u001b[39m answers_df[\u001b[39m'\u001b[39m\u001b[39manswers\u001b[39m\u001b[39m'\u001b[39m]\u001b[39m.\u001b[39mapply(count_spelling_errors)\n",
      "\u001b[0;31mNameError\u001b[0m: name 'count_spelling_errors' is not defined"
     ]
    }
   ],
   "source": [
    "answers_df['nb_spelling_mistakes'] = answers_df['answers'].apply(count_spelling_errors)"
   ]
  },
  {
   "cell_type": "code",
   "execution_count": 57,
   "metadata": {},
   "outputs": [
    {
     "name": "stdout",
     "output_type": "stream",
     "text": [
      "227717\n"
     ]
    }
   ],
   "source": [
    "X = answers_df['answers']\n",
    "y = answers_df['is_human']\n",
    "\n",
    "X_train, X_test, y_train, y_test = train_test_split(X, y, test_size=0.2, random_state=42)  "
   ]
  },
  {
   "cell_type": "markdown",
   "metadata": {},
   "source": [
    "# Small testsuite"
   ]
  },
  {
   "cell_type": "code",
   "execution_count": 46,
   "metadata": {},
   "outputs": [],
   "source": [
    "test_answers = [\n",
    "\n",
    "    ('Who is the strongest between Itachi and Jiraya?', \n",
    "    'Itachi is stronger by far an I can prove it ', \n",
    "    \"\"\"It's hard to determine conclusively who is stronger between Itachi and Jiraiya.\n",
    "     Both have unique strengths and weaknesses. Itachi excels in Sharingan and genjutsu mastery,\n",
    "      while Jiraiya is a proficient user of ninjutsu and senjutsu. Their relative power depends on various factors, \n",
    "      including their respective skills, combat strategies, and physical/mental condition during battle.\"\"\"\n",
    "    )\n",
    "]\n",
    "\n",
    "def human_or_gpt(n):\n",
    "    label = \"HUMAN\" if n == 1 else 'GPT'\n",
    "    return Fore.BLUE + label + Style.RESET_ALL\n",
    "\n",
    "\n",
    "def testsuite(model, tests):\n",
    "    for test in tests:\n",
    "        (qst, human, gpt) = test\n",
    "        print(f\"Question : {qst}\")\n",
    "        print(f\"Human Answer: [{human[:25]}] the model thinks it was written by a {human_or_gpt(model.predict([human]))} \")\n",
    "        print(f\"GPT Answer: [{gpt[:25]}] the model thinks it was written by a {human_or_gpt(model.predict([gpt]))} \")\n"
   ]
  },
  {
   "cell_type": "code",
   "execution_count": 47,
   "metadata": {},
   "outputs": [
    {
     "ename": "ModuleNotFoundError",
     "evalue": "No module named 'indexer'",
     "output_type": "error",
     "traceback": [
      "\u001b[0;31m---------------------------------------------------------------------------\u001b[0m",
      "\u001b[0;31mModuleNotFoundError\u001b[0m                       Traceback (most recent call last)",
      "\u001b[1;32m/home/onyxia/work/Hackathon-IAvsAI/Main.ipynb Cell 9\u001b[0m line \u001b[0;36m1\n\u001b[0;32m----> <a href='vscode-notebook-cell://user-05032002-517967-0.user.lab.sspcloud.fr/home/onyxia/work/Hackathon-IAvsAI/Main.ipynb#X11sdnNjb2RlLXJlbW90ZQ%3D%3D?line=0'>1</a>\u001b[0m \u001b[39mfrom\u001b[39;00m \u001b[39mspellchecker\u001b[39;00m \u001b[39mimport\u001b[39;00m SpellChecker\n\u001b[1;32m      <a href='vscode-notebook-cell://user-05032002-517967-0.user.lab.sspcloud.fr/home/onyxia/work/Hackathon-IAvsAI/Main.ipynb#X11sdnNjb2RlLXJlbW90ZQ%3D%3D?line=2'>3</a>\u001b[0m \u001b[39mdef\u001b[39;00m \u001b[39mcount_spelling_errors\u001b[39m(text):\n\u001b[1;32m      <a href='vscode-notebook-cell://user-05032002-517967-0.user.lab.sspcloud.fr/home/onyxia/work/Hackathon-IAvsAI/Main.ipynb#X11sdnNjb2RlLXJlbW90ZQ%3D%3D?line=3'>4</a>\u001b[0m     spell \u001b[39m=\u001b[39m SpellChecker(language\u001b[39m=\u001b[39m\u001b[39m'\u001b[39m\u001b[39men\u001b[39m\u001b[39m'\u001b[39m)\n",
      "File \u001b[0;32m/opt/mamba/lib/python3.11/site-packages/spellchecker/__init__.py:2\u001b[0m\n\u001b[1;32m      1\u001b[0m \u001b[39m# -*- coding: utf-8 -*-\u001b[39;00m\n\u001b[0;32m----> 2\u001b[0m \u001b[39mfrom\u001b[39;00m  \u001b[39mspellchecker\u001b[39;00m\u001b[39m.\u001b[39;00m\u001b[39mcore\u001b[39;00m \u001b[39mimport\u001b[39;00m Spellchecker,getInstance\n",
      "File \u001b[0;32m/opt/mamba/lib/python3.11/site-packages/spellchecker/core.py:26\u001b[0m\n\u001b[1;32m     23\u001b[0m \u001b[39mimport\u001b[39;00m \u001b[39minexactsearch\u001b[39;00m\n\u001b[1;32m     24\u001b[0m \u001b[39mimport\u001b[39;00m \u001b[39murllib\u001b[39;00m\n\u001b[0;32m---> 26\u001b[0m \u001b[39mfrom\u001b[39;00m \u001b[39mindexer\u001b[39;00m \u001b[39mimport\u001b[39;00m DictionaryIndex\n\u001b[1;32m     27\u001b[0m \u001b[39mfrom\u001b[39;00m \u001b[39mlangdetect\u001b[39;00m \u001b[39mimport\u001b[39;00m _detect_lang\n\u001b[1;32m     29\u001b[0m __all__ \u001b[39m=\u001b[39m [\u001b[39m'\u001b[39m\u001b[39mSpellchecker\u001b[39m\u001b[39m'\u001b[39m, \u001b[39m'\u001b[39m\u001b[39mgetInstance\u001b[39m\u001b[39m'\u001b[39m]\n",
      "\u001b[0;31mModuleNotFoundError\u001b[0m: No module named 'indexer'"
     ]
    }
   ],
   "source": [
    "from spellchecker import SpellChecker\n",
    "\n",
    "def count_spelling_errors(text):\n",
    "    spell = SpellChecker(language='en')\n",
    "    \n",
    "    # Diviser le texte en mots\n",
    "    words = text.split()\n",
    "    \n",
    "    # Compter les fautes d'orthographe\n",
    "    spelling_errors = 0\n",
    "    for word in words:\n",
    "        # Vérifier si le mot est mal orthographié\n",
    "        if not spell.correction(word) == word:\n",
    "            spelling_errors += 1\n",
    "            \n",
    "    return spelling_errors"
   ]
  },
  {
   "cell_type": "code",
   "execution_count": null,
   "metadata": {},
   "outputs": [
    {
     "name": "stdout",
     "output_type": "stream",
     "text": [
      "Nombre de fautes d'orthographe en anglais : 0\n"
     ]
    }
   ],
   "source": [
    "text = \"This\"\n",
    "errors = count_spelling_errors(text)\n",
    "print(\"Nombre de fautes d'orthographe en anglais :\", errors)\n"
   ]
  }
 ],
 "metadata": {
  "kernelspec": {
   "display_name": "base",
   "language": "python",
   "name": "python3"
  },
  "language_info": {
   "codemirror_mode": {
    "name": "ipython",
    "version": 3
   },
   "file_extension": ".py",
   "mimetype": "text/x-python",
   "name": "python",
   "nbconvert_exporter": "python",
   "pygments_lexer": "ipython3",
   "version": "3.11.6"
  }
 },
 "nbformat": 4,
 "nbformat_minor": 2
}
