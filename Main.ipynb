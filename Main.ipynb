{
 "cells": [
  {
   "cell_type": "code",
   "execution_count": 23,
   "metadata": {},
   "outputs": [],
   "source": [
    "import pandas as pd\n",
    "import json\n",
    "from glob import glob\n",
    "from sklearn.model_selection import train_test_split\n",
    "\n",
    "from colorama import init, Fore, Style"
   ]
  },
  {
   "cell_type": "code",
   "execution_count": 24,
   "metadata": {},
   "outputs": [],
   "source": [
    "def jsonl_to_dataframe(file_path):\n",
    "    return pd.read_json(file_path, lines=True)\n",
    "\n",
    "def merge_jsonl_to_dataframe(file_pattern):\n",
    "    \"\"\"Fonction pour fusionner plusieurs fichiers JSONL en un seul DataFrame pandas\"\"\"\n",
    "    # Récupérer la liste des fichiers correspondant au modèle fourni\n",
    "    files = glob(file_pattern)\n",
    "    \n",
    "    \n",
    "    # Lire chaque fichier JSONL et stocker les DataFrames individuels dans une liste\n",
    "    dfs = [jsonl_to_dataframe(file) for file in files]\n",
    "    # Concaténer les DataFrames\n",
    "    merged_df = pd.concat(dfs, ignore_index=True)\n",
    "    \n",
    "    return merged_df\n",
    "\n",
    "# Modèle de chemin vers les fichiers JSONL à fusionner\n",
    "file_pattern = \"data/*.jsonl\"\n",
    "\n",
    "# Appel de la fonction pour fusionner les fichiers JSONL en un DataFrame\n",
    "df = merge_jsonl_to_dataframe(file_pattern)\n",
    "\n",
    "# Afficher le DataFrame fusionné\n"
   ]
  },
  {
   "cell_type": "markdown",
   "metadata": {},
   "source": [
    "#  Setup the dataFrame for the predictive models"
   ]
  },
  {
   "cell_type": "code",
   "execution_count": 25,
   "metadata": {},
   "outputs": [
    {
     "data": {
      "text/html": [
       "<div>\n",
       "<style scoped>\n",
       "    .dataframe tbody tr th:only-of-type {\n",
       "        vertical-align: middle;\n",
       "    }\n",
       "\n",
       "    .dataframe tbody tr th {\n",
       "        vertical-align: top;\n",
       "    }\n",
       "\n",
       "    .dataframe thead th {\n",
       "        text-align: right;\n",
       "    }\n",
       "</style>\n",
       "<table border=\"1\" class=\"dataframe\">\n",
       "  <thead>\n",
       "    <tr style=\"text-align: right;\">\n",
       "      <th></th>\n",
       "      <th>questions</th>\n",
       "      <th>answers</th>\n",
       "      <th>is_human</th>\n",
       "    </tr>\n",
       "  </thead>\n",
       "  <tbody>\n",
       "    <tr>\n",
       "      <th>0</th>\n",
       "      <td>Does Primolut N taken during pregnancy affect ...</td>\n",
       "      <td>Hi,     Thanks for the query. I understand you...</td>\n",
       "      <td>1</td>\n",
       "    </tr>\n",
       "    <tr>\n",
       "      <th>1</th>\n",
       "      <td>Bloating and pain on right lower abdomen. Shou...</td>\n",
       "      <td>Hello,Thanks for the query to H.C.M. Forum.Pai...</td>\n",
       "      <td>1</td>\n",
       "    </tr>\n",
       "    <tr>\n",
       "      <th>2</th>\n",
       "      <td>Is chest pain related to intake of clindamycin...</td>\n",
       "      <td>Hello, The use of Clindamycin can cause stomac...</td>\n",
       "      <td>1</td>\n",
       "    </tr>\n",
       "    <tr>\n",
       "      <th>3</th>\n",
       "      <td>Q. Noticed a yellowish sag in the gums of my 1...</td>\n",
       "      <td>Hello. Revert back with the photos to a dentis...</td>\n",
       "      <td>1</td>\n",
       "    </tr>\n",
       "    <tr>\n",
       "      <th>4</th>\n",
       "      <td>Suggest remedy for low grade fever, hot and co...</td>\n",
       "      <td>Hi Dear,Welcome to Healthcaremagic Team.Unders...</td>\n",
       "      <td>1</td>\n",
       "    </tr>\n",
       "    <tr>\n",
       "      <th>...</th>\n",
       "      <td>...</td>\n",
       "      <td>...</td>\n",
       "      <td>...</td>\n",
       "    </tr>\n",
       "    <tr>\n",
       "      <th>170893</th>\n",
       "      <td>what are layers of the ionosphere</td>\n",
       "      <td>The ionosphere is a layer of the Earth's upper...</td>\n",
       "      <td>0</td>\n",
       "    </tr>\n",
       "    <tr>\n",
       "      <th>170894</th>\n",
       "      <td>what are layers of the ionosphere</td>\n",
       "      <td>The ionosphere is a layer of Earth's atmospher...</td>\n",
       "      <td>0</td>\n",
       "    </tr>\n",
       "    <tr>\n",
       "      <th>170895</th>\n",
       "      <td>what state is new orleans in</td>\n",
       "      <td>New Orleans is a city located in the state of ...</td>\n",
       "      <td>0</td>\n",
       "    </tr>\n",
       "    <tr>\n",
       "      <th>170896</th>\n",
       "      <td>what state is new orleans in</td>\n",
       "      <td>New Orleans is a city located in the state of ...</td>\n",
       "      <td>0</td>\n",
       "    </tr>\n",
       "    <tr>\n",
       "      <th>170897</th>\n",
       "      <td>what state is new orleans in</td>\n",
       "      <td>New Orleans is a city located in the state of ...</td>\n",
       "      <td>0</td>\n",
       "    </tr>\n",
       "  </tbody>\n",
       "</table>\n",
       "<p>170898 rows × 3 columns</p>\n",
       "</div>"
      ],
      "text/plain": [
       "                                                questions  \\\n",
       "0       Does Primolut N taken during pregnancy affect ...   \n",
       "1       Bloating and pain on right lower abdomen. Shou...   \n",
       "2       Is chest pain related to intake of clindamycin...   \n",
       "3       Q. Noticed a yellowish sag in the gums of my 1...   \n",
       "4       Suggest remedy for low grade fever, hot and co...   \n",
       "...                                                   ...   \n",
       "170893                  what are layers of the ionosphere   \n",
       "170894                  what are layers of the ionosphere   \n",
       "170895                       what state is new orleans in   \n",
       "170896                       what state is new orleans in   \n",
       "170897                       what state is new orleans in   \n",
       "\n",
       "                                                  answers  is_human  \n",
       "0       Hi,     Thanks for the query. I understand you...         1  \n",
       "1       Hello,Thanks for the query to H.C.M. Forum.Pai...         1  \n",
       "2       Hello, The use of Clindamycin can cause stomac...         1  \n",
       "3       Hello. Revert back with the photos to a dentis...         1  \n",
       "4       Hi Dear,Welcome to Healthcaremagic Team.Unders...         1  \n",
       "...                                                   ...       ...  \n",
       "170893  The ionosphere is a layer of the Earth's upper...         0  \n",
       "170894  The ionosphere is a layer of Earth's atmospher...         0  \n",
       "170895  New Orleans is a city located in the state of ...         0  \n",
       "170896  New Orleans is a city located in the state of ...         0  \n",
       "170897  New Orleans is a city located in the state of ...         0  \n",
       "\n",
       "[170898 rows x 3 columns]"
      ]
     },
     "execution_count": 25,
     "metadata": {},
     "output_type": "execute_result"
    }
   ],
   "source": [
    "# Creating the answers_df\n",
    "human_df = pd.DataFrame({'questions': df['question'], 'answers': df['human_answers'], 'is_human': 1 })\n",
    "gpt_df = pd.DataFrame({'questions': df['question'], 'answers': df['chatgpt_answers'], 'is_human': 0})\n",
    "answers_df = pd.concat([human_df, gpt_df], axis=0, ignore_index=True)\n",
    "\n",
    "# Checking the len\n",
    "answers_df = answers_df.explode('answers', ignore_index=True)\n",
    "answers_df = answers_df.dropna(subset=['answers'], ignore_index=True)\n",
    "\n",
    "answers_df"
   ]
  },
  {
   "cell_type": "code",
   "execution_count": 28,
   "metadata": {},
   "outputs": [],
   "source": [
    "answers_df['nb_spelling_mistakes'] = answers_df['answers'].apply(count_spelling_errors)"
   ]
  },
  {
   "cell_type": "code",
   "execution_count": 26,
   "metadata": {},
   "outputs": [],
   "source": [
    "X = answers_df['answers']\n",
    "y = answers_df['is_human']\n",
    "\n",
    "X_train, X_test, y_train, y_test = train_test_split(X, y, test_size=0.2, random_state=42) "
   ]
  },
  {
   "cell_type": "markdown",
   "metadata": {},
   "source": [
    "# Small testsuite"
   ]
  },
  {
   "cell_type": "code",
   "execution_count": 7,
   "metadata": {},
   "outputs": [],
   "source": [
    "test_answers = [\n",
    "\n",
    "    ('Who is the strongest between Itachi and Jiraya?', \n",
    "    'Itachi is stronger by far an I can prove it ', \n",
    "    \"\"\"It's hard to determine conclusively who is stronger between Itachi and Jiraiya.\n",
    "     Both have unique strengths and weaknesses. Itachi excels in Sharingan and genjutsu mastery,\n",
    "      while Jiraiya is a proficient user of ninjutsu and senjutsu. Their relative power depends on various factors, \n",
    "      including their respective skills, combat strategies, and physical/mental condition during battle.\"\"\"\n",
    "    )\n",
    "]\n",
    "\n",
    "def human_or_gpt(n):\n",
    "    label = \"HUMAN\" if n == 1 else 'GPT'\n",
    "    return Fore.BLUE + label + Style.RESET_ALL\n",
    "\n",
    "\n",
    "def testsuite(model, tests):\n",
    "    for test in tests:\n",
    "        (qst, human, gpt) = test\n",
    "        print(f\"Question : {qst}\")\n",
    "        print(f\"Human Answer: [{human[:25]}] the model thinks it was written by a {human_or_gpt(model.predict([human]))} \")\n",
    "        print(f\"GPT Answer: [{gpt[:25]}] the model thinks it was written by a {human_or_gpt(model.predict([gpt]))} \")\n"
   ]
  },
  {
   "cell_type": "code",
   "execution_count": 19,
   "metadata": {},
   "outputs": [],
   "source": [
    "from spellchecker import SpellChecker\n",
    "\n",
    "def count_spelling_errors(text):\n",
    "    spell = SpellChecker(language='en')\n",
    "    \n",
    "    # Diviser le texte en mots\n",
    "    words = text.split()\n",
    "    \n",
    "    # Compter les fautes d'orthographe\n",
    "    spelling_errors = 0\n",
    "    for word in words:\n",
    "        # Vérifier si le mot est mal orthographié\n",
    "        if not spell.correction(word) == word:\n",
    "            spelling_errors += 1\n",
    "            \n",
    "    return spelling_errors"
   ]
  },
  {
   "cell_type": "code",
   "execution_count": 21,
   "metadata": {},
   "outputs": [
    {
     "name": "stdout",
     "output_type": "stream",
     "text": [
      "Nombre de fautes d'orthographe en anglais : 0\n"
     ]
    }
   ],
   "source": [
    "text = \"This\"\n",
    "errors = count_spelling_errors(text)\n",
    "print(\"Nombre de fautes d'orthographe en anglais :\", errors)\n"
   ]
  }
 ],
 "metadata": {
  "kernelspec": {
   "display_name": "base",
   "language": "python",
   "name": "python3"
  },
  "language_info": {
   "codemirror_mode": {
    "name": "ipython",
    "version": 3
   },
   "file_extension": ".py",
   "mimetype": "text/x-python",
   "name": "python",
   "nbconvert_exporter": "python",
   "pygments_lexer": "ipython3",
   "version": "3.11.6"
  }
 },
 "nbformat": 4,
 "nbformat_minor": 2
}
