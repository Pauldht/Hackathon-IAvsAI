{
 "cells": [
  {
   "cell_type": "code",
   "execution_count": 27,
   "metadata": {},
   "outputs": [
    {
     "name": "stderr",
     "output_type": "stream",
     "text": [
      "[nltk_data] Downloading package punkt to /home/onyxia/nltk_data...\n",
      "[nltk_data]   Package punkt is already up-to-date!\n"
     ]
    },
    {
     "data": {
      "text/plain": [
       "True"
      ]
     },
     "execution_count": 27,
     "metadata": {},
     "output_type": "execute_result"
    }
   ],
   "source": [
    "import json\n",
    "import time\n",
    "import re\n",
    "import nltk\n",
    "import gensim.downloader\n",
    "import pandas as pd\n",
    "import matplotlib.pyplot as plt\n",
    "import xgboost as xgb\n",
    "import numpy as np\n",
    "\n",
    "\n",
    "\n",
    "from glob import glob\n",
    "from tqdm import tqdm\n",
    "\n",
    "from gensim.models import KeyedVectors\n",
    "from nltk.stem import WordNetLemmatizer\n",
    "from nltk.tokenize import word_tokenize\n",
    "\n",
    "from sklearn.model_selection import train_test_split\n",
    "from sklearn.pipeline import make_pipeline\n",
    "from sklearn.feature_extraction.text import TfidfVectorizer\n",
    "from sklearn.metrics import ConfusionMatrixDisplay, confusion_matrix, accuracy_score, f1_score\n",
    "from sklearn.linear_model import LogisticRegression\n",
    "\n",
    "import torch\n",
    "import torch.nn.init as init\n",
    "import torch.nn as nn\n",
    "import torch.nn.functional as F\n",
    "\n",
    "nltk.download('punkt')"
   ]
  },
  {
   "cell_type": "code",
   "execution_count": 2,
   "metadata": {},
   "outputs": [],
   "source": [
    "def json_to_dataframe(file_path):\n",
    "    return pd.read_json(file_path, lines=True)\n",
    "\n",
    "files = glob(\"data/*.jsonl\")\n",
    "dfs = [json_to_dataframe(file) for file in files]\n",
    "df = pd.concat(dfs, ignore_index=True)"
   ]
  },
  {
   "cell_type": "markdown",
   "metadata": {},
   "source": [
    "#  Preprocessing"
   ]
  },
  {
   "cell_type": "code",
   "execution_count": 3,
   "metadata": {},
   "outputs": [
    {
     "data": {
      "text/html": [
       "<div>\n",
       "<style scoped>\n",
       "    .dataframe tbody tr th:only-of-type {\n",
       "        vertical-align: middle;\n",
       "    }\n",
       "\n",
       "    .dataframe tbody tr th {\n",
       "        vertical-align: top;\n",
       "    }\n",
       "\n",
       "    .dataframe thead th {\n",
       "        text-align: right;\n",
       "    }\n",
       "</style>\n",
       "<table border=\"1\" class=\"dataframe\">\n",
       "  <thead>\n",
       "    <tr style=\"text-align: right;\">\n",
       "      <th></th>\n",
       "      <th>questions</th>\n",
       "      <th>answers</th>\n",
       "      <th>is_human</th>\n",
       "    </tr>\n",
       "  </thead>\n",
       "  <tbody>\n",
       "    <tr>\n",
       "      <th>0</th>\n",
       "      <td>Why is every book I hear about a \" NY Times # ...</td>\n",
       "      <td>Basically there are many categories of \" Best ...</td>\n",
       "      <td>1</td>\n",
       "    </tr>\n",
       "    <tr>\n",
       "      <th>1</th>\n",
       "      <td>Why is every book I hear about a \" NY Times # ...</td>\n",
       "      <td>If you 're hearing about it , it 's because it...</td>\n",
       "      <td>1</td>\n",
       "    </tr>\n",
       "    <tr>\n",
       "      <th>2</th>\n",
       "      <td>Why is every book I hear about a \" NY Times # ...</td>\n",
       "      <td>One reason is lots of catagories . However , h...</td>\n",
       "      <td>1</td>\n",
       "    </tr>\n",
       "    <tr>\n",
       "      <th>3</th>\n",
       "      <td>If salt is so bad for cars , why do we use it ...</td>\n",
       "      <td>salt is good for not dying in car crashes and ...</td>\n",
       "      <td>1</td>\n",
       "    </tr>\n",
       "    <tr>\n",
       "      <th>4</th>\n",
       "      <td>If salt is so bad for cars , why do we use it ...</td>\n",
       "      <td>In Minnesota and North Dakota , they tend to u...</td>\n",
       "      <td>1</td>\n",
       "    </tr>\n",
       "  </tbody>\n",
       "</table>\n",
       "</div>"
      ],
      "text/plain": [
       "                                           questions  \\\n",
       "0  Why is every book I hear about a \" NY Times # ...   \n",
       "1  Why is every book I hear about a \" NY Times # ...   \n",
       "2  Why is every book I hear about a \" NY Times # ...   \n",
       "3  If salt is so bad for cars , why do we use it ...   \n",
       "4  If salt is so bad for cars , why do we use it ...   \n",
       "\n",
       "                                             answers  is_human  \n",
       "0  Basically there are many categories of \" Best ...         1  \n",
       "1  If you 're hearing about it , it 's because it...         1  \n",
       "2  One reason is lots of catagories . However , h...         1  \n",
       "3  salt is good for not dying in car crashes and ...         1  \n",
       "4  In Minnesota and North Dakota , they tend to u...         1  "
      ]
     },
     "metadata": {},
     "output_type": "display_data"
    },
    {
     "data": {
      "text/html": [
       "<div>\n",
       "<style scoped>\n",
       "    .dataframe tbody tr th:only-of-type {\n",
       "        vertical-align: middle;\n",
       "    }\n",
       "\n",
       "    .dataframe tbody tr th {\n",
       "        vertical-align: top;\n",
       "    }\n",
       "\n",
       "    .dataframe thead th {\n",
       "        text-align: right;\n",
       "    }\n",
       "</style>\n",
       "<table border=\"1\" class=\"dataframe\">\n",
       "  <thead>\n",
       "    <tr style=\"text-align: right;\">\n",
       "      <th></th>\n",
       "      <th>answers</th>\n",
       "      <th>is_human</th>\n",
       "    </tr>\n",
       "  </thead>\n",
       "  <tbody>\n",
       "    <tr>\n",
       "      <th>0</th>\n",
       "      <td>Little disclaimer: this deals with US laws and...</td>\n",
       "      <td>1</td>\n",
       "    </tr>\n",
       "    <tr>\n",
       "      <th>1</th>\n",
       "      <td>Read: Mentally Retarded Downs. See, we've got ...</td>\n",
       "      <td>1</td>\n",
       "    </tr>\n",
       "    <tr>\n",
       "      <th>2</th>\n",
       "      <td>If any of you frequent rbadhistory, there is a...</td>\n",
       "      <td>1</td>\n",
       "    </tr>\n",
       "    <tr>\n",
       "      <th>3</th>\n",
       "      <td>I believe in a flat tax system, where everyone...</td>\n",
       "      <td>1</td>\n",
       "    </tr>\n",
       "    <tr>\n",
       "      <th>4</th>\n",
       "      <td>Edit: Ok guy's, my views have been changed on ...</td>\n",
       "      <td>1</td>\n",
       "    </tr>\n",
       "  </tbody>\n",
       "</table>\n",
       "</div>"
      ],
      "text/plain": [
       "                                             answers  is_human\n",
       "0  Little disclaimer: this deals with US laws and...         1\n",
       "1  Read: Mentally Retarded Downs. See, we've got ...         1\n",
       "2  If any of you frequent rbadhistory, there is a...         1\n",
       "3  I believe in a flat tax system, where everyone...         1\n",
       "4  Edit: Ok guy's, my views have been changed on ...         1"
      ]
     },
     "execution_count": 3,
     "metadata": {},
     "output_type": "execute_result"
    }
   ],
   "source": [
    "# Creating the answers_df\n",
    "human_df = pd.DataFrame({'questions': df['question'], 'answers': df['human_answers'], 'is_human': 1 })\n",
    "gpt_df = pd.DataFrame({'questions': df['question'], 'answers': df['chatgpt_answers'], 'is_human': 0})\n",
    "answers_df = pd.concat([human_df, gpt_df], axis=0, ignore_index=True)\n",
    "\n",
    "# Cleaning\n",
    "answers_df = answers_df.explode('answers', ignore_index=True)\n",
    "answers_df = answers_df.dropna(subset=['answers'], ignore_index=True)\n",
    "answers_df = answers_df[~answers_df['answers'].str.endswith('There was an error generating a response')]\n",
    "answers_df = answers_df[~answers_df['answers'].str.endswith('Log out')]\n",
    "deprecated_df = answers_df[answers_df['answers'].str.len() != 0]\n",
    "\n",
    "# Importing other_df\n",
    "csv = pd.read_csv(\"data/hack_train.csv\")\n",
    "csvFull = csv.rename(columns={'text': 'answers', \"label\" : \"is_human\"})\n",
    "newly_df = csvFull.drop(columns=\"src\")\n",
    "\n",
    "display(deprecated_df.head())\n",
    "newly_df.head()"
   ]
  },
  {
   "cell_type": "code",
   "execution_count": 4,
   "metadata": {},
   "outputs": [],
   "source": [
    "X = newly_df['answers']\n",
    "y = newly_df['is_human']\n",
    "\n",
    "X_train, X_test, y_train, y_test = train_test_split(X, y, test_size=0.2, random_state=42)  "
   ]
  },
  {
   "cell_type": "markdown",
   "metadata": {},
   "source": [
    "# Analyse du Dataset"
   ]
  },
  {
   "cell_type": "code",
   "execution_count": 15,
   "metadata": {},
   "outputs": [
    {
     "name": "stdout",
     "output_type": "stream",
     "text": [
      "Analyse sur l'ancien Dataset:\n",
      "AI answer Len: 1014\n",
      "Human answer len: 681\n",
      "La taille des réponses de l'IA est 49 % plus grandes que celle de l'humain, en moyenne\n",
      "\n",
      "Analyse sur le nouveau Dataset:\n",
      "AI answer Len: 1288\n",
      "Human answer len: 1173\n",
      "La taille des réponses de l'IA est 10 % plus grandes que celle de l'humain, en moyenne\n",
      "\n"
     ]
    }
   ],
   "source": [
    "def compare_len_dataset(df):\n",
    "    humain = df[df[\"is_human\"] == 1].copy()\n",
    "    gpt = df[df[\"is_human\"] == 0].copy()\n",
    "\n",
    "    human_len_mean = round(humain.answers.apply(len).mean())\n",
    "    gpt_len_mean = round(gpt['answers'].apply(len).mean())\n",
    "\n",
    "    print(\"AI answer Len:\", gpt_len_mean )\n",
    "    print(\"Human answer len:\", human_len_mean)\n",
    "    print(\"La taille des réponses de l'IA est\",  round((gpt_len_mean/human_len_mean - 1) * 100), \"% plus grandes que celle de l'humain, en moyenne\")\n",
    "    print()\n",
    "\n",
    "print(\"Analyse sur l'ancien Dataset:\")\n",
    "compare_len_dataset(deprecated_df)\n",
    "\n",
    "print('Analyse sur le nouveau Dataset:')\n",
    "compare_len_dataset(newly_df)"
   ]
  },
  {
   "cell_type": "code",
   "execution_count": 19,
   "metadata": {},
   "outputs": [
    {
     "name": "stdout",
     "output_type": "stream",
     "text": [
      "Total answers :  28078\n",
      "Total unique values 4869\n",
      "Percentage of aswers that a present more than 2 times 21.93468884781269\n",
      "Percentage of aswers that a present more than 20 times 19.100431300061615\n"
     ]
    },
    {
     "data": {
      "text/html": [
       "<div>\n",
       "<style scoped>\n",
       "    .dataframe tbody tr th:only-of-type {\n",
       "        vertical-align: middle;\n",
       "    }\n",
       "\n",
       "    .dataframe tbody tr th {\n",
       "        vertical-align: top;\n",
       "    }\n",
       "\n",
       "    .dataframe thead th {\n",
       "        text-align: right;\n",
       "    }\n",
       "</style>\n",
       "<table border=\"1\" class=\"dataframe\">\n",
       "  <thead>\n",
       "    <tr style=\"text-align: right;\">\n",
       "      <th></th>\n",
       "      <th>Unique_Value</th>\n",
       "      <th>Counts</th>\n",
       "    </tr>\n",
       "  </thead>\n",
       "  <tbody>\n",
       "    <tr>\n",
       "      <th>0</th>\n",
       "      <td>Uber is having a very public fight right now with</td>\n",
       "      <td>53</td>\n",
       "    </tr>\n",
       "    <tr>\n",
       "      <th>1</th>\n",
       "      <td>Media playback is not supported on this device...</td>\n",
       "      <td>52</td>\n",
       "    </tr>\n",
       "    <tr>\n",
       "      <th>2</th>\n",
       "      <td>It all sound the same to me. And to be</td>\n",
       "      <td>51</td>\n",
       "    </tr>\n",
       "    <tr>\n",
       "      <th>3</th>\n",
       "      <td>European Union law is applied by the courts of...</td>\n",
       "      <td>51</td>\n",
       "    </tr>\n",
       "    <tr>\n",
       "      <th>4</th>\n",
       "      <td>I have been noticing the news about police off...</td>\n",
       "      <td>51</td>\n",
       "    </tr>\n",
       "  </tbody>\n",
       "</table>\n",
       "</div>"
      ],
      "text/plain": [
       "                                        Unique_Value  Counts\n",
       "0  Uber is having a very public fight right now with      53\n",
       "1  Media playback is not supported on this device...      52\n",
       "2             It all sound the same to me. And to be      51\n",
       "3  European Union law is applied by the courts of...      51\n",
       "4  I have been noticing the news about police off...      51"
      ]
     },
     "metadata": {},
     "output_type": "display_data"
    },
    {
     "data": {
      "text/html": [
       "<div>\n",
       "<style scoped>\n",
       "    .dataframe tbody tr th:only-of-type {\n",
       "        vertical-align: middle;\n",
       "    }\n",
       "\n",
       "    .dataframe tbody tr th {\n",
       "        vertical-align: top;\n",
       "    }\n",
       "\n",
       "    .dataframe thead th {\n",
       "        text-align: right;\n",
       "    }\n",
       "</style>\n",
       "<table border=\"1\" class=\"dataframe\">\n",
       "  <thead>\n",
       "    <tr style=\"text-align: right;\">\n",
       "      <th></th>\n",
       "      <th>Unique_Value</th>\n",
       "      <th>Counts</th>\n",
       "    </tr>\n",
       "  </thead>\n",
       "  <tbody>\n",
       "    <tr>\n",
       "      <th>0</th>\n",
       "      <td>Media playback is not supported on this device...</td>\n",
       "      <td>2</td>\n",
       "    </tr>\n",
       "    <tr>\n",
       "      <th>1</th>\n",
       "      <td>Yer not alone in askin', and kind strangers ha...</td>\n",
       "      <td>2</td>\n",
       "    </tr>\n",
       "    <tr>\n",
       "      <th>2</th>\n",
       "      <td>I used to lived in Phoenix Arizona. On my way</td>\n",
       "      <td>2</td>\n",
       "    </tr>\n",
       "    <tr>\n",
       "      <th>3</th>\n",
       "      <td>Media playback is not supported on this device...</td>\n",
       "      <td>2</td>\n",
       "    </tr>\n",
       "    <tr>\n",
       "      <th>4</th>\n",
       "      <td>Media playback is not supported on this device...</td>\n",
       "      <td>2</td>\n",
       "    </tr>\n",
       "  </tbody>\n",
       "</table>\n",
       "</div>"
      ],
      "text/plain": [
       "                                        Unique_Value  Counts\n",
       "0  Media playback is not supported on this device...       2\n",
       "1  Yer not alone in askin', and kind strangers ha...       2\n",
       "2      I used to lived in Phoenix Arizona. On my way       2\n",
       "3  Media playback is not supported on this device...       2\n",
       "4  Media playback is not supported on this device...       2"
      ]
     },
     "execution_count": 19,
     "metadata": {},
     "output_type": "execute_result"
    }
   ],
   "source": [
    "humain = newly_df[newly_df[\"is_human\"] == 1].copy()\n",
    "gpt = newly_df[newly_df[\"is_human\"] == 0].copy()\n",
    "\n",
    "def CutTenWords(x):\n",
    "    return \" \".join(x.split(' ')[:10])\n",
    "\n",
    "gpt[\"Similarity\"] = gpt.answers.apply(CutTenWords)\n",
    "value_counts = gpt[\"Similarity\"].value_counts()\n",
    "\n",
    "humain[\"Similarity\"] = humain.answers.apply(CutTenWords)\n",
    "value_counts2 = humain[\"Similarity\"].value_counts()\n",
    "\n",
    "# Convert to DataFrame\n",
    "value_counts_df = value_counts.reset_index()\n",
    "value_counts_df.columns = ['Unique_Value', 'Counts'] \n",
    "value_counts_df2 = value_counts2.reset_index()\n",
    "value_counts_df2.columns = ['Unique_Value', 'Counts'] \n",
    "\n",
    "print(\"Total answers : \", len(gpt))\n",
    "print(\"Total unique values\", len(value_counts_df))\n",
    "print(\"Percentage of aswers that a present more than 2 times\", len(value_counts_df[value_counts_df['Counts'] >= 2]) / len(value_counts_df) * 100)\n",
    "print(\"Percentage of aswers that a present more than 20 times\", len(value_counts_df[value_counts_df['Counts'] >= 20]) / len(value_counts_df) * 100)\n",
    "display(value_counts_df.head())\n",
    "value_counts_df2.head()"
   ]
  },
  {
   "cell_type": "markdown",
   "metadata": {},
   "source": [
    "# Logistic Regression"
   ]
  },
  {
   "cell_type": "code",
   "execution_count": 44,
   "metadata": {},
   "outputs": [],
   "source": [
    "def evaluate_model(model, X_test, y_test):\n",
    "    y_pred = model.predict(X_test)\n",
    "    print(\"F1 score: \", f1_score(y_test, y_pred))\n",
    "    cm = confusion_matrix(y_test, y_pred, labels=model.classes_)\n",
    "    disp = ConfusionMatrixDisplay(confusion_matrix=cm, display_labels=model.classes_)\n",
    "    disp.plot()\n",
    "    plt.show()"
   ]
  },
  {
   "cell_type": "code",
   "execution_count": 45,
   "metadata": {},
   "outputs": [
    {
     "name": "stdout",
     "output_type": "stream",
     "text": [
      "F1 score:  0.935575679172057\n"
     ]
    },
    {
     "data": {
      "image/png": "[encoded data removed]",
      "text/plain": [
       "<Figure size 640x480 with 2 Axes>"
      ]
     },
     "metadata": {},
     "output_type": "display_data"
    }
   ],
   "source": [
    "lr_classifier = make_pipeline(TfidfVectorizer(ngram_range=(2,2)), LogisticRegression(C=10,random_state=42, solver='newton-cg', max_iter=10000))\n",
    "lr_classifier.fit(X_train.values, y_train)\n",
    "evaluate_model(lr_classifier, X_test, y_test)"
   ]
  },
  {
   "cell_type": "markdown",
   "metadata": {},
   "source": [
    "# XGBF"
   ]
  },
  {
   "cell_type": "code",
   "execution_count": 52,
   "metadata": {},
   "outputs": [
    {
     "name": "stdout",
     "output_type": "stream",
     "text": [
      "F1 score:  0.9089046358746692\n"
     ]
    },
    {
     "data": {
      "image/png": "[encoded data removed]",
      "text/plain": [
       "<Figure size 640x480 with 2 Axes>"
      ]
     },
     "metadata": {},
     "output_type": "display_data"
    }
   ],
   "source": [
    "xgb_classifier = make_pipeline(TfidfVectorizer(max_features=10000), \n",
    "xgb.XGBClassifier(max_depth=6, n_estimators=2000, colsample_bytree=0.7, reg_alpha=0.01, reg_lambda=0.1))\n",
    "\n",
    "xgb_classifier.fit(X_train.values, y_train)\n",
    "evaluate_model(xgb_classifier, X_test, y_test)"
   ]
  },
  {
   "cell_type": "markdown",
   "metadata": {},
   "source": [
    "# FeedForward Neural Network"
   ]
  },
  {
   "cell_type": "code",
   "execution_count": 21,
   "metadata": {},
   "outputs": [
    {
     "data": {
      "text/plain": [
       "<All keys matched successfully>"
      ]
     },
     "execution_count": 21,
     "metadata": {},
     "output_type": "execute_result"
    }
   ],
   "source": [
    "class MultiLayerPerceptron2(nn.Module):\n",
    "    def __init__(self, vocab_size, hidden_dim, num_classes):\n",
    "        super(MultiLayerPerceptron2, self).__init__()\n",
    "        self.fc1 = nn.Linear(vocab_size, hidden_dim) # Layer\n",
    "        self.relu1 = nn.ReLU()                      # Activation\n",
    "        self.dropout1 = nn.Dropout(p=0.1)           #Dropout\n",
    "\n",
    "        self.fc2 = nn.Linear(hidden_dim, hidden_dim//2) # Layer\n",
    "        self.relu2 = nn.ReLU()# Activation\n",
    "        self.dropout2 = nn.Dropout(p=0.1)#Dropout\n",
    "\n",
    "        self.batch1 = nn.BatchNorm1d(hidden_dim//2) #Normalisation\n",
    "\n",
    "        self.fc5 = nn.Linear(hidden_dim//2, num_classes) # Layer\n",
    "        self.sigmoid = nn.Sigmoid()# Activation\n",
    "\n",
    "        for m in self.modules():\n",
    "            if isinstance(m, nn.Linear):\n",
    "                init.kaiming_uniform_(m.weight)\n",
    "                if m.bias is not None:\n",
    "                    init.constant_(m.bias, 0)\n",
    "\n",
    "    def forward(self, x):\n",
    "        x = self.fc1(x)\n",
    "        x = self.relu1(x)\n",
    "        x = self.dropout1(x)\n",
    "\n",
    "        x = self.fc2(x)\n",
    "        x = self.relu2(x)\n",
    "        x = self.dropout2(x)\n",
    "\n",
    "        x = self.batch1(x)\n",
    "         \n",
    "        x = self.fc5(x)\n",
    "        x = self.sigmoid(x)\n",
    "        return x\n",
    "\n",
    "fnn_classifier = MultiLayerPerceptron2(100, 128, 2)\n",
    "fnn_classifier.load_state_dict(torch.load(\"model/fnn1.pth\"))"
   ]
  },
  {
   "cell_type": "code",
   "execution_count": 9,
   "metadata": {},
   "outputs": [
    {
     "name": "stdout",
     "output_type": "stream",
     "text": [
      "[==================================================] 100.0% 387.1/387.1MB downloaded\n"
     ]
    }
   ],
   "source": [
    "pretrained_wv = gensim.downloader.load('glove-twitter-100')\n",
    "\n",
    "def document_vector(doc, wv):\n",
    "  words = word_tokenize(doc)\n",
    "  word_vectors = np.array([wv[word] for word in words if word in wv])\n",
    "\n",
    "  if len(word_vectors) == 0:\n",
    "      return np.zeros(wv.vector_size)\n",
    "  return np.mean(word_vectors, axis=0)"
   ]
  },
  {
   "cell_type": "markdown",
   "metadata": {},
   "source": [
    "# LLM"
   ]
  },
  {
   "cell_type": "code",
   "execution_count": 33,
   "metadata": {},
   "outputs": [],
   "source": [
    "from tensorflow.keras import Model, Input, layers\n",
    "from tensorflow.keras.layers import TextVectorization, Embedding, Bidirectional, LSTM, Conv1D, GlobalMaxPooling1D, Dense, Dropout\n",
    "\n",
    "import tensorflow as tf\n",
    "\n",
    "max_features = 75000\n",
    "embedding_dim = 64\n",
    "sequence_length = 512*2\n",
    "\n",
    "class TransformerBlock(tf.keras.layers.Layer):\n",
    "    def __init__(self, embed_dim, num_heads, ff_dim, rate=0.1):\n",
    "        super(TransformerBlock, self).__init__()\n",
    "        self.embed_dim = embed_dim\n",
    "        self.num_heads = num_heads\n",
    "        self.ff_dim = ff_dim\n",
    "        self.rate = rate\n",
    "        \n",
    "        self.att = tf.keras.layers.MultiHeadAttention(num_heads=num_heads, key_dim=embed_dim)\n",
    "        self.ffn = tf.keras.Sequential(\n",
    "            [tf.keras.layers.Dense(ff_dim, activation=\"relu\"), tf.keras.layers.Dense(embed_dim),]\n",
    "        )\n",
    "        self.layernorm1 = tf.keras.layers.LayerNormalization(epsilon=1e-6)\n",
    "        self.layernorm2 = tf.keras.layers.LayerNormalization(epsilon=1e-6)\n",
    "        self.dropout1 = tf.keras.layers.Dropout(rate)\n",
    "        self.dropout2 = tf.keras.layers.Dropout(rate)\n",
    "\n",
    "    def call(self, inputs, training):\n",
    "        attn_output = self.att(inputs, inputs)\n",
    "        attn_output = self.dropout1(attn_output, training=training)\n",
    "        out1 = self.layernorm1(inputs + attn_output)\n",
    "        ffn_output = self.ffn(out1)\n",
    "        ffn_output = self.dropout2(ffn_output, training=training)\n",
    "        return self.layernorm2(out1 + ffn_output)\n",
    "    def get_config(self):\n",
    "        config = super().get_config()\n",
    "        config[\"att\"] = self.att\n",
    "        config[\"ffn\"] = self.ffn\n",
    "        config[\"layernorm1\"] = self.layernorm1\n",
    "        config[\"layernorm2\"] = self.layernorm2\n",
    "        config[\"dropout1\"] = self.dropout1\n",
    "        config[\"dropout2\"] = self.dropout2\n",
    "        return config\n",
    "\n",
    "inputs = Input(shape=(sequence_length,), dtype=\"int64\")\n",
    "x = Embedding(max_features, embedding_dim)(inputs)\n",
    "x = Bidirectional(LSTM(32, return_sequences=True))(x)\n",
    "transformer_block = TransformerBlock(embedding_dim, 2, 32)\n",
    "x = transformer_block(x, training=True)\n",
    "x = Conv1D(128, 7, padding=\"valid\", activation=\"relu\", strides=3)(x)\n",
    "x = GlobalMaxPooling1D()(x)\n",
    "x = Dense(128, activation=\"relu\")(x)\n",
    "x = Dropout(0.5)(x)\n",
    "predictions = Dense(1, activation=\"sigmoid\", name=\"predictions\")(x)\n",
    "\n",
    "llm_classifier = Model(inputs=inputs, outputs=predictions)"
   ]
  },
  {
   "cell_type": "code",
   "execution_count": 35,
   "metadata": {},
   "outputs": [],
   "source": [
    "vectorize_layer = tf.keras.layers.TextVectorization(\n",
    "    max_tokens=max_features,\n",
    "    ngrams = (3,5),\n",
    "    output_mode=\"int\",\n",
    "    output_sequence_length=sequence_length,\n",
    "    pad_to_max_tokens=True\n",
    ")\n",
    "\n",
    "llm_classifier.load_weights(\"model/my_model.weights.h5\")\n",
    "llm_classifier.compile(optimizer ='adam', loss='binary_crossentropy', metrics=['accuracy'])"
   ]
  },
  {
   "cell_type": "markdown",
   "metadata": {},
   "source": [
    "# Analyse des performances"
   ]
  },
  {
   "cell_type": "code",
   "execution_count": 14,
   "metadata": {},
   "outputs": [
    {
     "name": "stdout",
     "output_type": "stream",
     "text": [
      "Nombre de tokens: 636\n"
     ]
    }
   ],
   "source": [
    "\n",
    "crash_test = \"\"\"In the vast expanse of the universe, billions of stars twinkle in the darkness of space. Galaxies spiral and collide, nebulae glow with ethereal light, and black holes devour everything in their path. It is a place of wonder and mystery, where the laws of physics are pushed to their limits and the secrets of the cosmos remain elusive.\n",
    "On a small blue planet orbiting an average star, life flourishes in all its diversity. From the depths of the oceans to the heights of the mountains, countless species of plants and animals thrive in a delicate balance. Humans, with their intelligence and ingenuity, have built civilizations, explored the world, and reached for the stars.\n",
    "But even as humanity has made great strides in science and technology, there are still many unanswered questions about the universe. What lies beyond the edge of the observable universe? Are we alone in the cosmos, or are there other intelligent civilizations out there? And what is the ultimate fate of the universe itself?\n",
    "As we ponder these questions, we are reminded of our place in the cosmos - small and insignificant, yet capable of great things. We are explorers, adventurers, seekers of knowledge and understanding. And as we gaze up at the stars, we are filled with a sense of wonder and awe at the vastness and beauty of the universe.\n",
    "So let us continue to explore, to discover, to dream. For the universe is a place of infinite possibilities, and there is still so much left to learn and to explore. As long as we dare to dream and reach for the stars, the journey will never end. I will start my text again: \n",
    "In the vast expanse of the cosmos, stretching across billions of light-years, galaxies drift like islands in a sea of darkness. Stars twinkle like diamonds, nebulae glow with ethereal light, and black holes lurk in the depths of space. It is a place of unimaginable beauty and mystery, where the laws of physics are pushed to their limits and the secrets of the universe remain tantalizingly out of reach.\n",
    "On a small blue planet nestled in the outskirts of a spiral galaxy, life teems in all its forms. From the towering redwoods of the ancient forests to the microscopic creatures that dwell in the depths of the oceans, the planet is a symphony of life and diversity. Humans, with their curiosity and ambition, have built civilizations, explored the farthest reaches of the globe, and ventured into the unknown depths of space.\n",
    "But even as humanity has made great strides in understanding the world around them, there are still many mysteries left to unravel. What lies beyond the edge of the observable universe? Are there other intelligent beings out there, gazing up at the same stars and wondering about their place in the cosmos? And what is the ultimate fate of the universe itself?\n",
    "As we ponder these questions, we are reminded of our own insignificance in the grand scheme of things. We are but a speck of dust in the vastness of the cosmos, a fleeting moment in the endless march of time. And yet, in our brief existence, we have achieved so much - we have explored the farthest reaches of space, unlocked the secrets of the atom, and harnessed the power of the stars themselves.\n",
    "So let us continue to dream, to explore, to reach for the stars. For the universe is a place of infinite possibilities, and there is still so much left to discover. As long as there are questions left unanswered and mysteries left unsolved, the journey will never truly be over. And so we gaze up at the night sky, filled with wonder and awe at the beauty and majesty of the cosmos, and we dream of what lies beyond.\n",
    "\"\"\"\n",
    "\n",
    "tokens = crash_test.split()\n",
    "print(\"Nombre de tokens:\", len(tokens))"
   ]
  },
  {
   "cell_type": "code",
   "execution_count": 54,
   "metadata": {},
   "outputs": [],
   "source": [
    "def lr_classifier_execution_time():\n",
    "    start_time = time.time()\n",
    "    lr_classifier.predict([crash_test])\n",
    "    print(\"Regression Logistique temps d'exécution:\", time.time() - start_time, \"secondes\")\n",
    "\n",
    "def fnn_classifier_execution_time():\n",
    "    start_time = time.time()\n",
    "    doc_vector = document_vector(crash_test, pretrained_wv)\n",
    "    doc_vector = torch.tensor(doc_vector, dtype=torch.float32).unsqueeze(0)  \n",
    "\n",
    "    with torch.no_grad():\n",
    "        fnn_classifier.eval()\n",
    "        output = fnn_classifier(doc_vector)\n",
    "    \n",
    "    probabilities = F.softmax(output, dim=1) \n",
    "    print(\"FNN temps d'exécution:\", time.time() - start_time, \"secondes\")\n",
    "\n",
    "\n",
    "def xgb_classifier_execution_time():\n",
    "    start_time = time.time()\n",
    "    xgb_classifier.predict([crash_test])\n",
    "    print(\"XGBoost temps d'exécution:\", time.time() - start_time, \"secondes\")\n",
    "\n",
    "def llm_classifier_execution_time():\n",
    "    start_time = time.time()\n",
    "    vectorize_layer.adapt(crash_test)\n",
    "    new_answer_vectorized = vectorize_layer([crash_test]).numpy()\n",
    "    prediction = model.predict(new_answer_vectorized)\n",
    "    print(\"LLM temps d'exécution:\", time.time() - start_time, \"secondes\")"
   ]
  },
  {
   "cell_type": "code",
   "execution_count": 55,
   "metadata": {},
   "outputs": [
    {
     "name": "stdout",
     "output_type": "stream",
     "text": [
      "Regression Logistique temps d'exécution: 0.028385400772094727 secondes\n",
      "XGBoost temps d'exécution: 0.006531953811645508 secondes\n",
      "FNN temps d'exécution: 0.007961511611938477 secondes\n",
      "\u001b[1m1/1\u001b[0m \u001b[32m━━━━━━━━━━━━━━━━━━━━\u001b[0m\u001b[37m\u001b[0m \u001b[1m0s\u001b[0m 91ms/step\n",
      "LLM temps d'exécution: 0.18891024589538574 secondes\n"
     ]
    }
   ],
   "source": [
    "lr_classifier_execution_time()\n",
    "xgb_classifier_execution_time()\n",
    "fnn_classifier_execution_time()\n",
    "llm_classifier_execution_time()"
   ]
  }
 ],
 "metadata": {
  "kernelspec": {
   "display_name": "base",
   "language": "python",
   "name": "python3"
  },
  "language_info": {
   "codemirror_mode": {
    "name": "ipython",
    "version": 3
   },
   "file_extension": ".py",
   "mimetype": "text/x-python",
   "name": "python",
   "nbconvert_exporter": "python",
   "pygments_lexer": "ipython3",
   "version": "3.11.6"
  }
 },
 "nbformat": 4,
 "nbformat_minor": 2
}
